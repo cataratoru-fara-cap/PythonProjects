{
 "cells": [
  {
   "cell_type": "code",
   "execution_count": 2,
   "metadata": {},
   "outputs": [],
   "source": [
    "import pytesseract\n",
    "import os\n",
    "import stat\n",
    "from PIL import Image\n",
    "from docx import Document\n",
    "\n",
    "def play_img_to_docx(dir_path, play_name):\n",
    "    text = ''\n",
    "    # Set the path to the Tesseract-OCR executable\n",
    "    pytesseract.pytesseract.tesseract_cmd = r'C:\\\\Program Files\\\\Tesseract-OCR\\\\tesseract.exe'\n",
    "    \n",
    "    # Specify the image file path\n",
    "    for image in os.listdir(dir_path):\n",
    "        # if image.endswith('.jpg') or image.endswith('.jpeg'):\n",
    "            image_path = dir_path + '\\\\' + image\n",
    "            text += pytesseract.image_to_string(Image.open(image_path))\n",
    "\n",
    "    doc = Document()\n",
    "    # Add the text to the document\n",
    "    doc.add_paragraph(text)\n",
    "    # Save the document\n",
    "    doc.save(f\"{play_name}.docx\")\n",
    "\n",
    "play_img_to_docx(r'C:\\Users\\gabiv\\OneDrive\\Projects\\PythonProjects\\OcrTeatru\\Marius', 'RondaSiDave')"
   ]
  },
  {
   "cell_type": "code",
   "execution_count": 4,
   "metadata": {},
   "outputs": [],
   "source": []
  }
 ],
 "metadata": {
  "kernelspec": {
   "display_name": "OCR",
   "language": "python",
   "name": "python3"
  },
  "language_info": {
   "codemirror_mode": {
    "name": "ipython",
    "version": 3
   },
   "file_extension": ".py",
   "mimetype": "text/x-python",
   "name": "python",
   "nbconvert_exporter": "python",
   "pygments_lexer": "ipython3",
   "version": "3.12.0"
  }
 },
 "nbformat": 4,
 "nbformat_minor": 2
}
