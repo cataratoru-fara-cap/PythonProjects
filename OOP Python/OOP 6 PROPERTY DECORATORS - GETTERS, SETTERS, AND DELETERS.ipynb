{
 "cells": [
  {
   "cell_type": "code",
   "execution_count": null,
   "id": "55a92694",
   "metadata": {},
   "outputs": [],
   "source": [
    "# OOP 6 PROPERTY DECORATORS - GETTERS, SETTERS, AND DELETERS"
   ]
  },
  {
   "cell_type": "code",
   "execution_count": 2,
   "id": "60210d60",
   "metadata": {},
   "outputs": [],
   "source": [
    "class Employee:\n",
    "    num = 0\n",
    "    raise_amt = 1.04\n",
    "    \n",
    "    def __init__(self, first, last):\n",
    "        self.first = first\n",
    "        self.last = last\n",
    "    \n",
    "    @property\n",
    "    def email(self):\n",
    "        return \"{}.{}@email.com\".format(self.first, self.last)\n",
    "    \n",
    "    @property\n",
    "    def fullname(self):\n",
    "        return \"{} {}\".format(self.first, self.last)\n",
    "    \n",
    "    @fullname.setter\n",
    "    def fullname(self, name):\n",
    "        first, last = name.split(' ')\n",
    "        self.first = first\n",
    "        self.last = last\n",
    "        \n",
    "    @fullname.deleter\n",
    "    def fullname(self):\n",
    "        print('Delete Name!')\n",
    "        self.name = None\n",
    "        self.last = None        "
   ]
  },
  {
   "cell_type": "code",
   "execution_count": 3,
   "id": "6d137b7d",
   "metadata": {},
   "outputs": [],
   "source": [
    "emp_1 = Employee('Gabi', 'Vaireanu')"
   ]
  },
  {
   "cell_type": "code",
   "execution_count": 5,
   "id": "221555a3",
   "metadata": {},
   "outputs": [],
   "source": [
    "emp_1.fullname = 'Karen Meliga'\n"
   ]
  },
  {
   "cell_type": "code",
   "execution_count": 48,
   "id": "f8b1ca4b",
   "metadata": {},
   "outputs": [
    {
     "name": "stdout",
     "output_type": "stream",
     "text": [
      "Karen\n",
      "Karen.Meliga@email.com\n",
      "Karen Meliga\n"
     ]
    }
   ],
   "source": [
    "print(emp_1.first)\n",
    "print(emp_1.email)\n",
    "print(emp_1.fullname)"
   ]
  },
  {
   "cell_type": "code",
   "execution_count": 49,
   "id": "02d3eb4f",
   "metadata": {},
   "outputs": [
    {
     "name": "stdout",
     "output_type": "stream",
     "text": [
      "Delete Name!\n"
     ]
    }
   ],
   "source": [
    "del emp_1.fullname"
   ]
  },
  {
   "cell_type": "code",
   "execution_count": null,
   "id": "0ac90c93",
   "metadata": {},
   "outputs": [],
   "source": []
  }
 ],
 "metadata": {
  "kernelspec": {
   "display_name": "Python 3 (ipykernel)",
   "language": "python",
   "name": "python3"
  },
  "language_info": {
   "codemirror_mode": {
    "name": "ipython",
    "version": 3
   },
   "file_extension": ".py",
   "mimetype": "text/x-python",
   "name": "python",
   "nbconvert_exporter": "python",
   "pygments_lexer": "ipython3",
   "version": "3.9.12"
  }
 },
 "nbformat": 4,
 "nbformat_minor": 5
}
