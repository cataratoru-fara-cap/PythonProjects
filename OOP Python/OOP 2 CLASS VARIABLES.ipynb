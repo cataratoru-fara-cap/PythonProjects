{
 "cells": [
  {
   "cell_type": "code",
   "execution_count": 1,
   "id": "ad1df3f4",
   "metadata": {},
   "outputs": [],
   "source": [
    "# OOP 2 CLASS VARIABLES"
   ]
  },
  {
   "cell_type": "code",
   "execution_count": 17,
   "id": "15f93ae5",
   "metadata": {},
   "outputs": [],
   "source": [
    "class Employee:\n",
    "    num = 0\n",
    "    raise_amount = 1.04\n",
    "    \n",
    "    def __init__(self, first, last, pay):\n",
    "        self.first = first\n",
    "        self.last = last\n",
    "        self.pay = pay\n",
    "        self.email = first + '.' + last + '@gmail.com'\n",
    "       \n",
    "        Employee.num += 1\n",
    "    \n",
    "    def fullname(self):\n",
    "        return \"{} {}\".format(self.first, self.last)\n",
    "    \n",
    "    def apply_raise(self):\n",
    "        self.pay = int(self.pay * self.raise_amount)"
   ]
  },
  {
   "cell_type": "code",
   "execution_count": null,
   "id": "23f303fc",
   "metadata": {},
   "outputs": [],
   "source": []
  },
  {
   "cell_type": "code",
   "execution_count": 18,
   "id": "9a5bc715",
   "metadata": {},
   "outputs": [],
   "source": [
    "emp_1 = Employee('Gabi', 'Vaireanu', 50000)\n",
    "emp_2 = Employee('Test', 'User', 60000)"
   ]
  },
  {
   "cell_type": "code",
   "execution_count": 19,
   "id": "88709975",
   "metadata": {},
   "outputs": [
    {
     "name": "stdout",
     "output_type": "stream",
     "text": [
      "{'first': 'Gabi', 'last': 'Vaireanu', 'pay': 50000, 'email': 'Gabi.Vaireanu@gmail.com', 'raise_amount': 1.06}\n"
     ]
    }
   ],
   "source": [
    "Employee.raise_amount = 1.05\n",
    "emp_1.raise_amount = 1.06\n",
    "\n",
    "print(emp_1.__dict__)"
   ]
  },
  {
   "cell_type": "code",
   "execution_count": 20,
   "id": "8ab94848",
   "metadata": {},
   "outputs": [
    {
     "name": "stdout",
     "output_type": "stream",
     "text": [
      "1.06\n",
      "1.05\n"
     ]
    }
   ],
   "source": [
    "print(emp_1.raise_amount)\n",
    "print(Employee.raise_amount)"
   ]
  },
  {
   "cell_type": "code",
   "execution_count": 21,
   "id": "a5ddbc6d",
   "metadata": {},
   "outputs": [
    {
     "name": "stdout",
     "output_type": "stream",
     "text": [
      "2\n"
     ]
    }
   ],
   "source": [
    "print(Employee.num)"
   ]
  },
  {
   "cell_type": "code",
   "execution_count": null,
   "id": "64accf07",
   "metadata": {},
   "outputs": [],
   "source": []
  }
 ],
 "metadata": {
  "kernelspec": {
   "display_name": "Python 3 (ipykernel)",
   "language": "python",
   "name": "python3"
  },
  "language_info": {
   "codemirror_mode": {
    "name": "ipython",
    "version": 3
   },
   "file_extension": ".py",
   "mimetype": "text/x-python",
   "name": "python",
   "nbconvert_exporter": "python",
   "pygments_lexer": "ipython3",
   "version": "3.9.12"
  }
 },
 "nbformat": 4,
 "nbformat_minor": 5
}
