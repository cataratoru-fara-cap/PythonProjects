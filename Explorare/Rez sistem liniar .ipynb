{
 "cells": [
  {
   "cell_type": "code",
   "execution_count": 1,
   "id": "a2a1a487",
   "metadata": {},
   "outputs": [],
   "source": [
    "import numpy as np"
   ]
  },
  {
   "cell_type": "code",
   "execution_count": 11,
   "id": "d685aa94",
   "metadata": {},
   "outputs": [
    {
     "name": "stdout",
     "output_type": "stream",
     "text": [
      "[-10.   8.  -2.]\n"
     ]
    }
   ],
   "source": [
    "# A*X = B unde A_[i,i], B_[i,1], X_[i,1] \n",
    "a = np.array([[3/20, -1/20, 0],\n",
    "             [-1/20, 3/20, -1/10],\n",
    "             [0, -1/10, 21/10]])\n",
    "\n",
    "b = np.array([-38/20, 38/20, -5])\n",
    "\n",
    "x = np.linalg.solve(a, b)\n",
    "print(x)"
   ]
  },
  {
   "cell_type": "code",
   "execution_count": null,
   "id": "e7e2d07b",
   "metadata": {},
   "outputs": [],
   "source": []
  }
 ],
 "metadata": {
  "kernelspec": {
   "display_name": ".venv",
   "language": "python",
   "name": "python3"
  },
  "language_info": {
   "codemirror_mode": {
    "name": "ipython",
    "version": 3
   },
   "file_extension": ".py",
   "mimetype": "text/x-python",
   "name": "python",
   "nbconvert_exporter": "python",
   "pygments_lexer": "ipython3",
   "version": "3.10.9 | packaged by conda-forge | (main, Jan 11 2023, 15:15:40) [MSC v.1916 64 bit (AMD64)]"
  },
  "vscode": {
   "interpreter": {
    "hash": "c4e2f3687c67664441211d23bb27c51862a86a900eb1984f88b0a0b3e2d7a3a3"
   }
  }
 },
 "nbformat": 4,
 "nbformat_minor": 5
}
