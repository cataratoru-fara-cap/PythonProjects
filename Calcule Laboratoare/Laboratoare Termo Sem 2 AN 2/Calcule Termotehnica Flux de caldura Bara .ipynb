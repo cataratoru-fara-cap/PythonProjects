{
 "cells": [
  {
   "cell_type": "code",
   "execution_count": 1,
   "id": "b7838c20",
   "metadata": {},
   "outputs": [],
   "source": [
    "import numpy as np\n",
    "from matplotlib import pyplot as plt \n",
    "\n",
    "T_1 = np.array([50.8, 40.5, 35.6, 31.1, 28.5, 27.6, 26.3, 25.8, 21.8])\n",
    "T_2 = np.array([60.8, 47.8, 40.1, 33.8, 30.1, 28.6, 26.8, 26.3, 22])\n",
    "T_3 = np.array([84.2, 63.3, 50.5, 40.8, 35.0, 32.0 , 29.3, 29.2, 22])\n",
    "\n",
    "u_1, u_2, U_3 = 9, 12, 5\n",
    "i_1, i_2, i_3 = 1/3, 0.43, None\n",
    "l = 5"
   ]
  },
  {
   "cell_type": "markdown",
   "id": "9995cdac",
   "metadata": {},
   "source": [
    "# Functional aproach\n"
   ]
  },
  {
   "cell_type": "code",
   "execution_count": 2,
   "id": "8aa52598",
   "metadata": {},
   "outputs": [],
   "source": [
    "def T_M (T):\n",
    "    s = 0\n",
    "    for i in T[1:-2]:\n",
    "        s += i *5\n",
    "    s += (T[0] + T[-1]) * 5/2\n",
    "    return s/ 35 + 273.15\n",
    "def T_F (T):\n",
    "    return T[-1] + 273.15\n",
    "def alph_conv(T_s, T_f):\n",
    "    return 1.316*((T_s-T_f)/0.01)**0.25\n",
    "def alph_rad(T_s, T_f):\n",
    "    return 0.95* 5.67* 10**(-8) *(T_s**4 - T_f**4)/(T_s-T_f)\n",
    "def alph_tot(alph_conv, alph_rad):\n",
    "    return alph_rad + alph_conv\n",
    "def flux_Q(T_s, T_f, alph_tot):\n",
    "    return alph_tot*(T_s - T_f)* (np.pi*0.01*0.35)\n",
    "\n",
    "def calcule (T):\n",
    "    T_s = T_M(T)\n",
    "    T_f = T_F(T)\n",
    "    Alph_conv = alph_conv (T_s, T_f)\n",
    "    Alph_rad = alph_rad (T_s, T_f)\n",
    "    Alph_tot = alph_tot (Alph_conv, Alph_rad)\n",
    "    Flux_Q = flux_Q (T_s, T_f, Alph_tot)\n",
    "    return( T_s, T_f, Alph_conv, Alph_rad, Alph_tot, Flux_Q)\n"
   ]
  },
  {
   "cell_type": "code",
   "execution_count": 3,
   "id": "8a8529a5",
   "metadata": {},
   "outputs": [
    {
     "name": "stdout",
     "output_type": "stream",
     "text": [
      "(305.4214285714286, 294.95, 7.486130144322247, 5.830003468692731, 13.316133613014978, 1.5332112450796136)\n",
      "(308.6642857142857, 295.15, 7.9791046917465795, 5.93204337437496, 13.91114806612154, 2.0671594948440437)\n",
      "(316.5785714285714, 295.15, 8.953734122453303, 6.172847480399709, 15.126581602853012, 3.5641168228087183)\n"
     ]
    }
   ],
   "source": [
    "calcule_1 = calcule (T_1)\n",
    "calcule_2 = calcule (T_2)\n",
    "calcule_3 = calcule (T_3)\n",
    "print (calcule_1) \n",
    "print (calcule_2) \n",
    "print (calcule_3)"
   ]
  },
  {
   "cell_type": "markdown",
   "id": "38eeddc0",
   "metadata": {},
   "source": [
    "# Class Aproach"
   ]
  },
  {
   "cell_type": "code",
   "execution_count": 4,
   "id": "4f214d97",
   "metadata": {},
   "outputs": [],
   "source": [
    "class Calcule_flux_bara:\n",
    "    def __init__(self, T, L):\n",
    "        self.T = T\n",
    "        self.L = L\n",
    "    def __repr__(self):\n",
    "        return f\"{self.T}, {self.L}\"\n",
    "    \n",
    "    @property\n",
    "    def Tm(self):\n",
    "        self.s = 0\n",
    "        for i in self.T[1:-2]: \n",
    "            self.s += i * 0.05 \n",
    "        self.s += (self.T[0] + self.T[-1]) * 0.025\n",
    "        return self.s / 0.35 + 273.15\n",
    "    \n",
    "    @property\n",
    "    def Tf(self):\n",
    "        return self.T[-1] + 273.15\n",
    "    \n",
    "    @property\n",
    "    def alpha_conv(self):\n",
    "        return 1.316 * ((self.Tm - self.Tf) / 0.01) ** 0.25\n",
    "    \n",
    "    @property\n",
    "    def alpha_rad(self):\n",
    "        return 0.95* 5.67* 10**(-8) * (self.Tm**4 - self.Tf**4) / (self.Tm - self.Tf)\n",
    "    \n",
    "    @property\n",
    "    def alpha_tot(self):\n",
    "        return self.alpha_rad + self.alpha_conv\n",
    "    \n",
    "    @property\n",
    "    def flux_Q(self):\n",
    "        return self.alpha_tot*(self.Tm - self.Tf) * (np.pi*0.01*0.35)"
   ]
  },
  {
   "cell_type": "code",
   "execution_count": 5,
   "id": "384e8efc",
   "metadata": {},
   "outputs": [
    {
     "name": "stdout",
     "output_type": "stream",
     "text": [
      "Temperatura medie este: 305.4214285714286\n",
      "294.95\n",
      "7.486130144322247\n",
      "5.830003468692731\n",
      "13.316133613014978\n",
      "1.5332112450796136\n"
     ]
    }
   ],
   "source": [
    "c1= Calcule_flux_bara(T_1, 0.35)\n",
    "\n",
    "print(Temperatura medie este:'',c1.Tm)\n",
    "print(c1.Tf)\n",
    "print(c1.alpha_conv)\n",
    "print(c1.alpha_rad)\n",
    "print(c1.alpha_tot)\n",
    "print(c1.flux_Q)"
   ]
  },
  {
   "cell_type": "markdown",
   "id": "7da61fc9",
   "metadata": {},
   "source": [
    "## Grafice temperaturi & Dataframes"
   ]
  },
  {
   "cell_type": "code",
   "execution_count": 6,
   "id": "c9183007",
   "metadata": {},
   "outputs": [
    {
     "data": {
      "image/png": "[encoded data removed]",
      "text/plain": [
       "<Figure size 432x288 with 1 Axes>"
      ]
     },
     "metadata": {
      "needs_background": "light"
     },
     "output_type": "display_data"
    }
   ],
   "source": [
    "x = np.linspace(10, 90, 9)\n",
    "y = np.linspace(20, 90, 8) \n",
    "\n",
    "y1 = np.array(T_1)\n",
    "y2 = np.array(T_2)\n",
    "y3 = np.array(T_3)\n",
    "\n",
    "\n",
    "plt.plot(x, y1, color = \"green\", marker='o', label = \"9V\")\n",
    "plt.plot(x, y2, color = \"red\", marker='o', label = \"12V\")\n",
    "plt.plot(x, y3, color = \"blue\", marker='o', label = \"15V\")\n",
    "\n",
    "plt.xticks( x, [\"T1\", \"T2\", \"T3\", \"T4\", \"T5\", \"T6\", \"T7\", \"T8\", \"T9\"] )\n",
    "plt.yticks( y )\n",
    "\n",
    "\n",
    "plt.legend()\n",
    "plt.grid(True)\n",
    "plt.xlim(min(x)-10, max(x) + 10 )\n",
    "plt.title(\"Linie temperatura bara\")\n",
    "\n",
    "plt.show()\n"
   ]
  },
  {
   "cell_type": "code",
   "execution_count": null,
   "id": "515f06c3",
   "metadata": {},
   "outputs": [],
   "source": []
  }
 ],
 "metadata": {
  "kernelspec": {
   "display_name": "Python 3 (ipykernel)",
   "language": "python",
   "name": "python3"
  },
  "language_info": {
   "codemirror_mode": {
    "name": "ipython",
    "version": 3
   },
   "file_extension": ".py",
   "mimetype": "text/x-python",
   "name": "python",
   "nbconvert_exporter": "python",
   "pygments_lexer": "ipython3",
   "version": "3.9.12"
  }
 },
 "nbformat": 4,
 "nbformat_minor": 5
}
