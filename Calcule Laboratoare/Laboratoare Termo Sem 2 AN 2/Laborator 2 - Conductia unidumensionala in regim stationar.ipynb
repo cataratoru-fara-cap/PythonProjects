{
 "cells": [
  {
   "cell_type": "code",
   "execution_count": 1,
   "id": "aa8aa661",
   "metadata": {},
   "outputs": [],
   "source": [
    "import numpy as np\n",
    "import pandas as pd\n",
    "import matplotlib.pyplot as plt"
   ]
  },
  {
   "cell_type": "code",
   "execution_count": 2,
   "id": "d0955819",
   "metadata": {},
   "outputs": [
    {
     "name": "stdout",
     "output_type": "stream",
     "text": [
      "    U     I  P(̇Q)    t1    t2    t3    t4    t5    t6    t7    t8\n",
      "0   9  0.90   8.10  39.5  37.3  35.8  27.9  25.3  21.4  18.4  16.9\n",
      "1  12  1.21  14.52  56.2  52.5  49.7  37.3  33.5  26.7  22.2  19.6\n"
     ]
    }
   ],
   "source": [
    "#am introdus datele experimentale intr un tabel\n",
    "data = {'U': np.array([9, 12]),\n",
    "        'I': np.array([0.9, 1.21]),\n",
    "        'P(\\u0307Q)': np.array([9*0.9, 12*1.21]),\n",
    "        't1': np.array([39.5, 56.2]),\n",
    "        't2': np.array([37.3, 52.5]),\n",
    "        't3': np.array([35.8, 49.7]),\n",
    "        't4': np.array([27.9, 37.3]),\n",
    "        't5': np.array([25.3, 33.5]),\n",
    "        't6': np.array([21.4, 26.7]),\n",
    "        't7': np.array([18.4, 22.2]),\n",
    "        't8': np.array([16.9, 19.6])}\n",
    "\n",
    "df = pd.DataFrame(data)\n",
    "print(df)"
   ]
  },
  {
   "cell_type": "markdown",
   "id": "dfce4cb0",
   "metadata": {},
   "source": [
    "$\\lambda = \\frac{\\dot{Q} \\delta}{(T_1 - T_2){S}}$"
   ]
  },
  {
   "cell_type": "code",
   "execution_count": 3,
   "id": "b14248a6",
   "metadata": {},
   "outputs": [],
   "source": [
    "#am definit doua functii pentru a efectua calculele conform formulelor de mai sus\n",
    "\n",
    "def lamda(flux_Q, delta_t):\n",
    "    grosime = 1.5 * pow(10, -2)\n",
    "    sectiune = 4.9 * pow(10, -4)\n",
    "    x = flux_Q*grosime/ (delta_t*sectiune)\n",
    "    return x\n",
    "def eroare_relativa( x1, x2):\n",
    "    return f'{(x1-x2)/x2 * 100}%'"
   ]
  },
  {
   "cell_type": "code",
   "execution_count": 15,
   "id": "9a247845",
   "metadata": {},
   "outputs": [
    {
     "name": "stdout",
     "output_type": "stream",
     "text": [
      "           λ1          λ2\n",
      "0  112.708720  120.132377\n",
      "1  165.306122  158.746356\n",
      "2   67.015996   68.383046\n",
      "3   95.368917  116.970999\n",
      "4   82.653061   98.775510\n",
      "5  165.306122  170.957614\n",
      "6   55.102041   62.604197\n",
      "[112.70871985 165.30612245  67.01599559  95.3689168   82.65306122\n",
      " 165.30612245  55.10204082]\n"
     ]
    }
   ],
   "source": [
    "#am prelucrat datele experimentale din tabel\n",
    "fluxuri_Q = df.get('P(\\u0307Q)')\n",
    "deltas = {  'delta_t12' : df.get('t1')-df.get('t2'), \n",
    "            'delta_t23' : df.get('t2')-df.get('t3'),\n",
    "            'delta_t32' : df.get('t1')-df.get('t3'),\n",
    "            'delta_t45' : df.get('t4')-df.get('t5'),\n",
    "            'delta_t67' : df.get('t6')-df.get('t7'),\n",
    "            'delta_t78' : df.get('t7')-df.get('t8'),\n",
    "            'delta_t68' : df.get('t6')-df.get('t8')\n",
    "}\n",
    "\n",
    "\n",
    "#print(fluxuri_Q)  \n",
    "#print(deltas['delta_t12'])\n",
    "#print(lamda(fluxuri_Q, deltas['delta_t12']))\n",
    "\n",
    "lamdas = []\n",
    "for i in deltas.values():\n",
    "    x = lamda(fluxuri_Q, i)\n",
    "    lamdas.append(x)\n",
    "\n",
    "lamdas = np.array(lamdas)\n",
    "\n",
    "df_lamdas = pd.DataFrame(lamdas, columns=['\\u03BB1', '\\u03BB2'])\n",
    "print(df_lamdas)\n",
    "\n",
    "print(lamdas[:,0])"
   ]
  },
  {
   "cell_type": "code",
   "execution_count": 25,
   "id": "01d431c5",
   "metadata": {},
   "outputs": [
    {
     "name": "stdout",
     "output_type": "stream",
     "text": [
      "[39.5 37.3 35.8 27.9 25.3 21.4 18.4 16.9]\n"
     ]
    }
   ],
   "source": [
    "masuratoare_1 = df.iloc[0,3:]\n",
    "masuratoare_2 = df.iloc[1,3:]\n",
    "\n",
    "masuratoare_1 = np.array(masuratoare_1)\n",
    "masuratoare_2 = np.array(masuratoare_2)\n",
    "print(masuratoare_1)"
   ]
  },
  {
   "cell_type": "code",
   "execution_count": 28,
   "id": "213ad628",
   "metadata": {},
   "outputs": [
    {
     "ename": "NameError",
     "evalue": "name 'x_prim1' is not defined",
     "output_type": "error",
     "traceback": [
      "\u001b[1;31m---------------------------------------------------------------------------\u001b[0m",
      "\u001b[1;31mNameError\u001b[0m                                 Traceback (most recent call last)",
      "Input \u001b[1;32mIn [28]\u001b[0m, in \u001b[0;36m<cell line: 8>\u001b[1;34m()\u001b[0m\n\u001b[0;32m      5\u001b[0m y_prim \u001b[38;5;241m=\u001b[39m masuratoare_1\n\u001b[0;32m      6\u001b[0m y_secund \u001b[38;5;241m=\u001b[39m masuratoare_2\n\u001b[1;32m----> 8\u001b[0m \u001b[43mx_prim1\u001b[49m\n\u001b[0;32m      9\u001b[0m plt\u001b[38;5;241m.\u001b[39mplot(x[:\u001b[38;5;241m3\u001b[39m], y1[:\u001b[38;5;241m3\u001b[39m], color \u001b[38;5;241m=\u001b[39m \u001b[38;5;124m\"\u001b[39m\u001b[38;5;124mgreen\u001b[39m\u001b[38;5;124m\"\u001b[39m, marker\u001b[38;5;241m=\u001b[39m\u001b[38;5;124m'\u001b[39m\u001b[38;5;124mo\u001b[39m\u001b[38;5;124m'\u001b[39m, label \u001b[38;5;241m=\u001b[39m \u001b[38;5;124m\"\u001b[39m\u001b[38;5;124m9V\u001b[39m\u001b[38;5;124m\"\u001b[39m)\n\u001b[0;32m     10\u001b[0m \u001b[38;5;66;03m#plt.plot(x, y2, color = \"red\", marker='o', label = \"12V\")\u001b[39;00m\n\u001b[0;32m     11\u001b[0m \n\u001b[0;32m     12\u001b[0m \u001b[38;5;66;03m#plt.xticks( x, [\"T1\", \"T2\", \"T3\", \"T4\", \"T5\", \"T6\", \"T7\", \"T8\"] )\u001b[39;00m\n",
      "\u001b[1;31mNameError\u001b[0m: name 'x_prim1' is not defined"
     ]
    }
   ],
   "source": [
    "x = np.linspace(10, 80, 8)\n",
    "y = np.linspace(20, 90, 8) \n",
    "\n",
    "\n",
    "y_prim = masuratoare_1\n",
    "y_secund = masuratoare_2\n",
    "\n",
    "x_prim1 = np.append(x[:3], 35)\n",
    "x_prim2 = np.append(x[3:5].insert(0,35), 55)\n",
    "x_prim3 = [5:8].insert(0,55)\n",
    "\n",
    "y_prim1 = np.append(masuratoare_1[:3],)\n",
    "y_prim2 =\n",
    "y_prim3 =\n",
    "\n",
    "plt.plot(x[:3], y1[:3], color = \"green\", marker='o', label = \"9V\")\n",
    "#plt.plot(x, y2, color = \"red\", marker='o', label = \"12V\")\n",
    "\n",
    "#plt.xticks( x, [\"T1\", \"T2\", \"T3\", \"T4\", \"T5\", \"T6\", \"T7\", \"T8\"] )\n",
    "plt.yticks( y )\n",
    "\n",
    "\n",
    "plt.legend()\n",
    "plt.grid(True)\n",
    "plt.xlim(min(x)-10, max(x) + 10 )\n",
    "plt.title(\"Linie temperatura bara\")\n",
    "\n",
    "plt.show()"
   ]
  }
 ],
 "metadata": {
  "kernelspec": {
   "display_name": "Python 3 (ipykernel)",
   "language": "python",
   "name": "python3"
  },
  "language_info": {
   "codemirror_mode": {
    "name": "ipython",
    "version": 3
   },
   "file_extension": ".py",
   "mimetype": "text/x-python",
   "name": "python",
   "nbconvert_exporter": "python",
   "pygments_lexer": "ipython3",
   "version": "3.9.12"
  }
 },
 "nbformat": 4,
 "nbformat_minor": 5
}
