{
 "cells": [
  {
   "cell_type": "code",
   "execution_count": 1,
   "id": "505934ec",
   "metadata": {},
   "outputs": [],
   "source": [
    "import os.path\n",
    "import openpyxl\n",
    "import pandas as pd\n",
    "import numpy as np\n",
    "import matplotlib.pyplot as plt\n",
    "from math import sqrt as sqrt"
   ]
  },
  {
   "cell_type": "code",
   "execution_count": 2,
   "id": "649f0c95",
   "metadata": {},
   "outputs": [],
   "source": [
    "#\n",
    "diametre = np.array([15, 20, 17.5, 23])\n",
    "#vom folosi 15 diametru standard pentru biesele la care analizam pierderea locala de sarcina\n",
    "#vom folosi restul diametrelor pentru masuratorile pierderii liniare\n",
    "#am creat o lista de labeluri pe care le vom folosi la grafice\n",
    "labels = np.array([f'{i} mm' for i in diametre])\n",
    "\n",
    "#datele experimentale pierdere liniara de sarcina\n",
    "\n",
    "debite_pierdere_liniara ={'1' : np.array([0.880, 0.844, 0.742, 0.608, 0.471, 0.403, 0.323, 0.293, 0.107]),\n",
    "                          '2' : np.array([1.196, 0.996, 0.882, 0.805, 0.701, 0.640, 0.547, 0.405, 0.330]),\n",
    "                          '3' : np.array([1.075, 0.917, 0.718, 0.692, 0.613, 0.516, 0.390, 0.238, 0.233]), \n",
    "                          '4' : np.array([1.24, 1.05, 0.88, 0.80, 0.79, 0.69, 0.60, 0.5, 0.4])\n",
    "                         }\n",
    "presiuni_pierdere_liniara = {'1' : np.array([148.4, 135.13, 107.67, 75.38, 47.53, 35.64, 23.60, 20.07, 2.58]),\n",
    "                             '2' : np.array([43.32, 29.58, 24.75, 20.46, 15.58, 13.32, 9.79, 5.42, 3.58]),\n",
    "                             '3' : np.array([89.95, 66.33, 49.07, 39.17, 31.04, 22.68, 13.25, 4.81, 4.5]),\n",
    "                             '4' : np.array([35.3, 25.3, 18.5, 14.8, 15.1, 11.5, 8.8, 5.81, 3.30])\n",
    "                            }\n",
    "\n",
    "#datele experimentale pierdere locala de saricna\n",
    "\n",
    "debite_pierdere_locala = {'curba 90': np.array([0.509, 0.446, 0.398, 0.345, 0.302, 0.238, 0.199]),\n",
    "                          'curba 45': np.array([0.60, 0.542, 0.509, 0.449, 0.407, 0.320, 0.232]),\n",
    "                          'cot 135': np.array([0.511, 0.438, 0.390, 0.362, 0.310, 0.261]),\n",
    "                          'cot 90':  np.array([0.603, 0.549, 0.500, 0.440, 0.391, 0.334, 0.300, 0.136]),\n",
    "                          'robinet cu sertar': np.array([0.55, 0.50, 0.45, 0.40, 0.35, 0.30, 0.25, 0.15]),\n",
    "                          'robinet cu ventil': np.array([0.55, 0.51, 0.448, 0.402, 0.35, 0.259, 0.158]),\n",
    "                          '2 robineti cu ventil': np.array([0.55, 0.507, 0.455, 0.407, 0.348, 0.312, 0.254, 0.14])\n",
    "                         }\n",
    "\n",
    "presiuni_pierdere_locala = {'curba 90': np.array([1653, 1324.24, 1036.97, 763.29, 559.17, 311.50, 158.3]),\n",
    "                            'curba 45': np.array([22.91, 18.77, 17.08, 13.71, 10.64, 7.34, 3.50]),\n",
    "                            'cot 135': np.array([273.13, 200.49, 160.52, 139.12, 101, 71.47]),\n",
    "                            'cot 90': np.array([204.86, 168.73, 140.89, 109.90, 85.89, 65.56, 49.37, 7.88]),\n",
    "                            'robinet cu sertar': np.array([1119, 885.5, 715.34, 585.09, 437.5, 326.82, 230, 71.3]),\n",
    "                            'robinet cu ventil': np.array([406.44, 336.56, 260.09, 208.31, 161.88, 85.12, 30.35]),\n",
    "                            '2 robineti cu ventil': np.array([286.86, 238, 191.3, 155.54, 114.04, 88.96, 58.73, 16.47])\n",
    "                           }"
   ]
  },
  {
   "cell_type": "markdown",
   "id": "0d4b29a2",
   "metadata": {},
   "source": [
    "Zeta are formula: $\\zeta=\\frac{\\Delta p D^4}{0.0826 \\rho g L Q^2}$ si reprezinta coeficientul de pierdere locala de sarcina\n",
    "\n",
    "Lambda are formula: $\\lambda=\\frac{\\Delta p D^5}{0.0826 \\rho g L Q^2}$ si reprezinta coeficientul de pierdere liniara de sarcina\n",
    "\n",
    "Folosim pentru Criteriul Reynolds formula: $Re = \\frac{4Q}{\\nu \\pi D}$\n",
    "\n",
    "Folosim pentru pierderea de sarcina formula $ h = \\frac{\\Delta p}{\\rho g}$"
   ]
  },
  {
   "cell_type": "code",
   "execution_count": 3,
   "id": "e32d416b",
   "metadata": {},
   "outputs": [],
   "source": [
    "class My_class:\n",
    "    def __init__(self, presiuni, debite, diametru, key = None):\n",
    "        self.presiuni = presiuni * pow(10, 2) #conversie mbar --> Pa\n",
    "        self.debite    = debite    * pow(10,-3) #conversie  dm^3 --> m^3\n",
    "        self.diametru = diametru * pow(10,-3) #conversie mm -> m\n",
    "        self.key = key\n",
    "    def __repr__(self):\n",
    "        return f'Aceasta teava are grosimea de :{self.diametru}'\n",
    "    \n",
    "    def lamda(self, ro = 1000, g = 9.81, L = 1):\n",
    "        return self.presiuni*pow(self.diametru, 5) / ( 0.0826*ro*g*L*pow(self.debite,2) )\n",
    "    def zeta(self, ro = 1000, g = 9.81):\n",
    "        return self.presiuni*pow(self.diametru, 4) / ( 0.0826*ro*g*pow(self.debite,2) )\n",
    "    \n",
    "    def reynolds(self, niu = pow(10, -6) ):\n",
    "        return 4*self.debite / (np.pi*niu*self.diametru)    \n",
    "    def pierdere_sarcina(self, ro = 1000, g = 10):\n",
    "        return self.presiuni / (ro*g)\n",
    "    def viteza_medie(self):\n",
    "        return self.debite/ pow(self.diametru, 2)\n",
    "\n",
    "    @property\n",
    "    def df_liniar (self):\n",
    "        data ={'Q (m^3/s)': self.debite,\n",
    "               '\\u0394p (Pa)': self.presiuni,\n",
    "               'D(m)': self.diametru,\n",
    "               '\\u03BB': self.lamda(), #lamda\n",
    "               'Re': self.reynolds(), \n",
    "               'S': self.key\n",
    "              }\n",
    "        df = pd.DataFrame(data)\n",
    "        return df\n",
    "\n",
    "    @property\n",
    "    def df_local (self):\n",
    "        data ={'Q (m^3/s)': self.debite,\n",
    "               '\\u0394p (Pa)': self.presiuni,\n",
    "               'D(m)': self.diametru,\n",
    "               '\\u03B6': self.zeta(), #zeta\n",
    "               'Re': self.reynolds(),\n",
    "               'Obs': self.key\n",
    "              }\n",
    "        df = pd.DataFrame(data)\n",
    "        return df"
   ]
  },
  {
   "cell_type": "code",
   "execution_count": 4,
   "id": "fced60bc",
   "metadata": {},
   "outputs": [],
   "source": [
    "def export_excel(date, pierdere):\n",
    "    def control_flow (date, pierdere, writer):\n",
    "        if pierdere == 'locala':\n",
    "            for i in date:\n",
    "                i.df_local.to_excel(writer, sheet_name= f'{i.key}')\n",
    "        elif pierdere == 'liniara':\n",
    "            for i in date:\n",
    "                i.df_local.to_excel(writer, sheet_name= f'{i.diametru}')\n",
    "\n",
    "    path = './Determinarea_exp.xlsx'\n",
    "    check_file = os.path.isfile(path) \n",
    "\n",
    "    if check_file is False:\n",
    "        with pd.ExcelWriter(path) as writer:\n",
    "            control_flow(date, pierdere, writer)\n",
    "    elif check_file is True:\n",
    "        with pd.ExcelWriter(path, engine = 'openpyxl', mode = 'a', if_sheet_exists=\"overlay\") as writer:\n",
    "            control_flow(date, pierdere, writer)\n",
    "    else:\n",
    "        raise TypeError('pierderea poate fi doar locala sau liniara')"
   ]
  },
  {
   "cell_type": "markdown",
   "id": "f14ce493",
   "metadata": {},
   "source": [
    "# Pierderi Liniare prelucrare"
   ]
  },
  {
   "cell_type": "code",
   "execution_count": 5,
   "id": "1332e7ba",
   "metadata": {},
   "outputs": [],
   "source": [
    "#s_1 = My_class(debit = debite_pierdere_liniara['1'], presiune = presiuni_pierdere_liniara['1'], diametru = diametre[0])\n",
    "#print(s_1.df_lamda()) #testcase\n",
    "\n",
    "\n",
    "masuratori_pierdere_liniara = []\n",
    "i = 0\n",
    "for key in debite_pierdere_liniara.keys():\n",
    "    obj = My_class(debite = debite_pierdere_liniara[key], presiuni = presiuni_pierdere_liniara[key], diametru = diametre[i], key = key)\n",
    "    masuratori_pierdere_liniara.append(obj)\n",
    "    i += 1"
   ]
  },
  {
   "cell_type": "code",
   "execution_count": 6,
   "id": "04ea4975",
   "metadata": {
    "scrolled": true
   },
   "outputs": [],
   "source": [
    "#for i in masuratori_pierdere_liniara:\n",
    "#    print(i.df_liniar)"
   ]
  },
  {
   "cell_type": "markdown",
   "id": "ecb09560",
   "metadata": {},
   "source": [
    "## Grafic necorectat"
   ]
  },
  {
   "cell_type": "code",
   "execution_count": null,
   "id": "75844159",
   "metadata": {
    "scrolled": true
   },
   "outputs": [],
   "source": [
    "plt.title(\"Diagrama lui Gabi (Moody) pentru coeficientul de pierdere liniara de sarcina, fara corectarea erorilor\")\n",
    "\n",
    "for i in masuratori_pierdere_liniara:\n",
    "    df = i.df_liniar\n",
    "    plt.plot(df['Re'], df['\\u03BB'], marker = 'x', label = f'{i.diametru*pow(10,3)}mm')\n",
    "    \n",
    "plt.legend()\n",
    "plt.grid(True)\n",
    "plt.ylabel('\\u03BB', rotation = 0)\n",
    "plt.xlabel('Reynolds')\n",
    "\n",
    "plt.savefig(\"Diagrama lui Gabi (Moody) pentru coeficientul de pierdere liniara de sarcina, fara corectarea erorilor.png\", dpi = 500)\n",
    "plt.show()"
   ]
  },
  {
   "cell_type": "markdown",
   "id": "eeaaff53",
   "metadata": {},
   "source": [
    "## Grafic corectat"
   ]
  },
  {
   "cell_type": "code",
   "execution_count": null,
   "id": "9627e8c6",
   "metadata": {
    "scrolled": true
   },
   "outputs": [],
   "source": [
    "#indexam de la 0 poz 3 = 2, poz 4 = 3\n",
    "df_2 = masuratori_pierdere_liniara[2]\n",
    "df_3 = masuratori_pierdere_liniara[3]\n",
    "\n",
    "#print(df_2.df_liniar[['\\u03BB','Re']])\n",
    "#print(df_3.df_liniar[['\\u03BB','Re']])\n",
    "\n",
    "df_2 = df_2.df_liniar[['\\u03BB','Re']]\n",
    "df_3 = df_3.df_liniar[['\\u03BB','Re']]\n",
    "\n",
    "#print(df_2.loc[2])\n",
    "#print(df_3.loc[3])\n",
    "\n",
    "df_2.drop(axis = 1, index = 2, inplace = True)\n",
    "df_3.drop(axis = 1, index = 3, inplace = True)\n",
    "\n",
    "DF_liniare_c = [i.df_liniar for i in masuratori_pierdere_liniara]\n",
    "DF_liniare_c[2] = df_2\n",
    "DF_liniare_c[3] = df_3\n",
    "\n",
    "#for i in masuratori_liniare_c:\n",
    "#    print(i)\n",
    "\n",
    "plt.title(\"Diagrama lui Gabi (Moody) pentru coeficientul de pierdere liniara de sarcina, cu corectarea erorilor\")\n",
    "\n",
    "k = 0\n",
    "for i in DF_liniare_c:\n",
    "    plt.plot(i['Re'], i['\\u03BB'], marker = 'x', label = labels[k])\n",
    "    k += 1\n",
    "    \n",
    "plt.legend()\n",
    "plt.grid(True)\n",
    "plt.ylabel('\\u03BB', rotation = 0)\n",
    "plt.xlabel('Reynolds')\n",
    "\n",
    "plt.savefig(\"Diagrama lui Gabi (Moody) pentru coeficientul de pierdere liniara de sarcina, cu corectarea erorilor.png\", dpi = 500)\n",
    "plt.show()"
   ]
  },
  {
   "cell_type": "markdown",
   "id": "f0b655e4",
   "metadata": {},
   "source": [
    "## Diagrama pierderilor liniare de sarcina in functie de debite"
   ]
  },
  {
   "cell_type": "code",
   "execution_count": null,
   "id": "ba75b5ab",
   "metadata": {
    "scrolled": true
   },
   "outputs": [],
   "source": [
    "plt.title(\"Diagrama pierderilor liniare de sarcina in functie de debite\")\n",
    "\n",
    "for i in masuratori_pierdere_liniara:\n",
    "    plt.plot(i.debite, i.pierdere_sarcina(), marker = 'o', label = i.diametru)\n",
    "    \n",
    "plt.legend()\n",
    "plt.grid(True)\n",
    "plt.ylabel('h [m]', rotation = 0)\n",
    "#schimba label debit sa fie in litri\n",
    "plt.xlabel('Q [m^3/s]')\n",
    "\n",
    "plt.savefig(\"Diagrama pierderilor liniare de sarcina in functie de debite.png\", dpi = 500)\n",
    "plt.show()\n"
   ]
  },
  {
   "cell_type": "markdown",
   "id": "b0c22ef8",
   "metadata": {},
   "source": [
    "## Diagrama pierderilor liniare de sarcina in functie de viteze"
   ]
  },
  {
   "cell_type": "code",
   "execution_count": null,
   "id": "3a35ce9a",
   "metadata": {},
   "outputs": [],
   "source": [
    "plt.title(\"Diagrama pierderilor liniare de sarcina in functie de viteze\")\n",
    "\n",
    "for i in masuratori_pierdere_liniara:\n",
    "    plt.plot(i.viteza_medie(), i.pierdere_sarcina(), marker = 'o', label = i.diametru)\n",
    "    \n",
    "plt.legend()\n",
    "plt.grid(True)\n",
    "plt.ylabel('h [m]', rotation = 0)\n",
    "#schimba label debit sa fie in litri\n",
    "\n",
    "plt.xlabel('v [m/s]')\n",
    "\n",
    "plt.savefig(\"Diagrama pierderilor liniare de sarcina in functie de viteze\", dpi = 500)\n",
    "plt.show()"
   ]
  },
  {
   "cell_type": "markdown",
   "id": "2d982d76",
   "metadata": {},
   "source": [
    "# Pierderi Locale Prelucrate"
   ]
  },
  {
   "cell_type": "code",
   "execution_count": null,
   "id": "ed763c65",
   "metadata": {},
   "outputs": [],
   "source": [
    "masuratori_pierdere_locala_1 = []\n",
    "#diametrul ramane constant la pierderea locala deoarece este acelasi pentru toate piesele\n",
    "for key in debite_pierdere_locala.keys():\n",
    "    if key == 'robinet cu sertar':\n",
    "        break\n",
    "    else:\n",
    "        obj = My_class(debite = debite_pierdere_locala[key], presiuni = presiuni_pierdere_locala[key], diametru = diametre[0], key = key)\n",
    "        masuratori_pierdere_locala_1.append(obj)"
   ]
  },
  {
   "cell_type": "code",
   "execution_count": null,
   "id": "ee7d0d9e",
   "metadata": {},
   "outputs": [],
   "source": [
    "masuratori_pierdere_locala_2 = []\n",
    "debite_keys = list(debite_pierdere_locala.keys())\n",
    "#diametrul ramane constant la pierderea locala deoarece este acelasi pentru toate piesele\n",
    "for key in debite_keys[-3:]:\n",
    "        obj = My_class(debite = debite_pierdere_locala[key], presiuni = presiuni_pierdere_locala[key], diametru = diametre[0], key = key)\n",
    "        masuratori_pierdere_locala_2.append(obj)\n",
    "\n",
    "#de_doua_ori_robinet_debite = debite_pierdere_locala['robinet cu ventil'] * 2\n",
    "#de_doua_ori_robinet_presiuni = presiuni_pierdere_locala['robinet cu ventil'] * 2\n",
    "#\n",
    "#de_doua_ori_robinet = My_class(debite = de_doua_ori_robinet_debite, presiuni = de_doua_ori_robinet_presiuni, diametru = diametre[0], key = 'de doua ori robinet cu ventil')\n",
    "#masuratori_pierdere_locala_2.append(de_doua_ori_robinet)"
   ]
  },
  {
   "cell_type": "code",
   "execution_count": null,
   "id": "7167b431",
   "metadata": {
    "scrolled": true
   },
   "outputs": [],
   "source": [
    "#for i in masuratori_pierdere_locala_1:\n",
    "#    print(i.df_local)"
   ]
  },
  {
   "cell_type": "code",
   "execution_count": null,
   "id": "eb93fdfa",
   "metadata": {},
   "outputs": [],
   "source": [
    "#for i in masuratori_pierdere_locala_2:\n",
    "#    print(i.df_local)"
   ]
  },
  {
   "cell_type": "markdown",
   "id": "86c23647",
   "metadata": {},
   "source": [
    "## Diagrama pierderilor locale de sarcina in functie de zeta si Re (1)"
   ]
  },
  {
   "cell_type": "code",
   "execution_count": null,
   "id": "672bde54",
   "metadata": {
    "scrolled": true
   },
   "outputs": [],
   "source": [
    "plt.title(\"Diagrama pierderilor liniare de sarcina in functie de zeta (1)\")\n",
    "\n",
    "for i in masuratori_pierdere_locala_1:\n",
    "    df = i.df_local\n",
    "    plt.plot(df['Re'], df['\\u03B6'], marker = 'o', label = i.key)\n",
    "    \n",
    "plt.legend()\n",
    "plt.grid(True)\n",
    "plt.ylabel('\\u03B6', rotation = 0)\n",
    "plt.xlabel('Reynolds')\n",
    "\n",
    "plt.savefig('Diagrama pierderilor liniare de sarcina in functie de zeta (1).png', dpi = 500)\n",
    "plt.show()"
   ]
  },
  {
   "cell_type": "markdown",
   "id": "19479839",
   "metadata": {},
   "source": [
    "## Diagrama pierderilor locale de sarcina in functie de zeta si Re (1)"
   ]
  },
  {
   "cell_type": "code",
   "execution_count": null,
   "id": "5a2f808c",
   "metadata": {},
   "outputs": [],
   "source": [
    "plt.title(\"Diagrama pierderilor liniare de sarcina in functie de zeta (2)\")\n",
    "\n",
    "for i in masuratori_pierdere_locala_2:\n",
    "    df = i.df_local\n",
    "    plt.plot(df['Re'], df['\\u03B6'], marker = 'o', label = i.key)\n",
    "    \n",
    "plt.legend()\n",
    "plt.grid(True)\n",
    "plt.ylabel('\\u03B6', rotation = 0)\n",
    "plt.xlabel('Reynolds')\n",
    "\n",
    "plt.savefig(\"Diagrama pierderilor liniare de sarcina in functie de zeta (2).png\", dpi = 500)\n",
    "plt.show()"
   ]
  },
  {
   "cell_type": "markdown",
   "id": "2ff20249",
   "metadata": {},
   "source": [
    "## Diagrama pierderilor locale de sarcina in functie de debite (1)"
   ]
  },
  {
   "cell_type": "code",
   "execution_count": null,
   "id": "a95b160f",
   "metadata": {
    "scrolled": true
   },
   "outputs": [],
   "source": [
    "plt.title(\"Diagrama pierderilor locale de sarcina efectiva in functie de debite (1)\")\n",
    "\n",
    "for i in masuratori_pierdere_locala_1:\n",
    "    plt.plot(i.debite, i.pierdere_sarcina(), marker = 'o', label = i.key)\n",
    "    \n",
    "plt.legend()\n",
    "plt.grid(True)\n",
    "plt.ylabel('h [m]', rotation = 0)\n",
    "#schimba labeluri debite sa fie in litri\n",
    "plt.xlabel('Q [m^3/s]')\n",
    "\n",
    "plt.savefig(\"Diagrama pierderilor locale de sarcina efectiva in functie de debite (1).png\", dpi = 500)\n",
    "plt.show()"
   ]
  },
  {
   "cell_type": "markdown",
   "id": "e03a7367",
   "metadata": {},
   "source": [
    "## Diagrama pierderilor locale de sarcina in functie de debite (2)"
   ]
  },
  {
   "cell_type": "code",
   "execution_count": null,
   "id": "7dc096d9",
   "metadata": {},
   "outputs": [],
   "source": [
    "plt.title(\"Diagrama pierderilor locale de sarcina efectiva in functie de debite(2)\")\n",
    "\n",
    "for i in masuratori_pierdere_locala_2:\n",
    "    plt.plot(i.debite, i.pierdere_sarcina(), marker = 'o', label = i.key)\n",
    "    \n",
    "plt.legend()\n",
    "plt.grid(True)\n",
    "plt.ylabel('h [m]', rotation = 0)\n",
    "#schimba labeluri debite sa fie in litri\n",
    "plt.xlabel('Q [m^3/s]')\n",
    "\n",
    "plt.savefig(\"Diagrama pierderilor locale de sarcina efectiva in functie de debite (2).png\", dpi = 500)\n",
    "plt.show()"
   ]
  },
  {
   "cell_type": "markdown",
   "id": "cea5a620",
   "metadata": {},
   "source": [
    "## Diagrama pierderilor locale de sarcina in functie de viteze (1)"
   ]
  },
  {
   "cell_type": "code",
   "execution_count": null,
   "id": "11d3b672",
   "metadata": {
    "scrolled": false
   },
   "outputs": [],
   "source": [
    "plt.title(\"Diagrama pierderilor locale de sarcina in functie de viteze (1)\")\n",
    "\n",
    "for i in masuratori_pierdere_locala_1:\n",
    "    plt.plot(i.viteza_medie(), i.pierdere_sarcina(), marker = 'o', label = i.key)\n",
    "    \n",
    "plt.legend()\n",
    "plt.grid(True)\n",
    "plt.ylabel('h [m]', rotation = 0)\n",
    "plt.xlabel('v [m/s]')\n",
    "\n",
    "plt.savefig(\"Diagrama pierderilor locale de sarcina in functie de viteze (1).png\", dpi = 500)\n",
    "plt.show()"
   ]
  },
  {
   "cell_type": "markdown",
   "id": "8d85f339",
   "metadata": {},
   "source": [
    "## Diagrama pierderilor locale de sarcina in functie de viteze (2)"
   ]
  },
  {
   "cell_type": "markdown",
   "id": "738b5c14",
   "metadata": {},
   "source": [
    "# Export rezultate"
   ]
  },
  {
   "cell_type": "code",
   "execution_count": null,
   "id": "f63c045f",
   "metadata": {
    "scrolled": false
   },
   "outputs": [],
   "source": [
    "plt.title(\"Diagrama pierderilor locale de sarcina in functie de viteze (2)\")\n",
    "\n",
    "for i in masuratori_pierdere_locala_2:\n",
    "    plt.plot(i.viteza_medie(), i.pierdere_sarcina(), marker = 'o', label = i.key)\n",
    "    \n",
    "plt.legend()\n",
    "plt.grid(True)\n",
    "plt.ylabel('h [m]', rotation = 0)\n",
    "plt.xlabel('v [m/s]')\n",
    "\n",
    "plt.savefig(\"Diagrama pierderilor locale de sarcina in functie de viteze (2).png\", dpi = 500)\n",
    "plt.show()"
   ]
  },
  {
   "cell_type": "code",
   "execution_count": null,
   "id": "0d887f1f",
   "metadata": {},
   "outputs": [],
   "source": [
    "masuratori_pierdere_locala = np.append(masuratori_pierdere_locala_1, masuratori_pierdere_locala_2)\n",
    "export_excel(masuratori_pierdere_liniara, pierdere = \"liniara\")\n",
    "export_excel(masuratori_pierdere_locala, pierdere= \"locala\")"
   ]
  }
 ],
 "metadata": {
  "kernelspec": {
   "display_name": "Python 3 (ipykernel)",
   "language": "python",
   "name": "python3"
  },
  "language_info": {
   "codemirror_mode": {
    "name": "ipython",
    "version": 3
   },
   "file_extension": ".py",
   "mimetype": "text/x-python",
   "name": "python",
   "nbconvert_exporter": "python",
   "pygments_lexer": "ipython3",
   "version": "3.9.12"
  }
 },
 "nbformat": 4,
 "nbformat_minor": 5
}
