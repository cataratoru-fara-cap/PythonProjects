{
 "cells": [
  {
   "cell_type": "code",
   "execution_count": 1,
   "id": "505934ec",
   "metadata": {},
   "outputs": [],
   "source": [
    "import pandas as pd\n",
    "import numpy as np\n",
    "import matplotlib.pyplot as plt\n",
    "from math import sqrt as sqrt"
   ]
  },
  {
   "cell_type": "code",
   "execution_count": 2,
   "id": "649f0c95",
   "metadata": {},
   "outputs": [],
   "source": [
    "#\n",
    "diametre = np.array([15, 20, 17.5, 23])\n",
    "#vom folosi 15 diametru standard pentru biesele la care analizam pierderea locala de sarcina\n",
    "#vom folosi restul diametrelor pentru masuratorile pierderii liniare\n",
    "#am creat o lista de labeluri pe care le vom folosi la grafice\n",
    "labels = np.array([f'{i} mm' for i in diametre])\n",
    "\n",
    "#datele experimentale pierdere liniara de sarcina\n",
    "\n",
    "debite_pierdere_liniara ={'1' : np.array([0.880, 0.844, 0.742, 0.608, 0.471, 0.403, 0.323, 0.293, 0.107]),\n",
    "                          '2' : np.array([1.196, 0.996, 0.882, 0.805, 0.701, 0.640, 0.547, 0.405, 0.330]),\n",
    "                          '3' : np.array([1.075, 0.917, 0.718, 0.692, 0.613, 0.516, 0.390, 0.238, 0.233]), \n",
    "                          '4' : np.array([1.24, 1.05, 0.88, 0.80, 0.79, 0.69, 0.60, 0.5, 0.4])\n",
    "                         }\n",
    "presiuni_pierdere_liniara = {'1' : np.array([148.4, 135.13, 107.67, 75.38, 47.53, 35.64, 23.60, 20.07, 2.58]),\n",
    "                             '2' : np.array([43.32, 29.58, 24.75, 20.46, 15.58, 13.32, 9.79, 5.42, 3.58]),\n",
    "                             '3' : np.array([89.95, 66.33, 49.07, 39.17, 31.04, 22.68, 13.25, 4.81, 4.5]),\n",
    "                             '4' : np.array([35.3, 25.3, 18.5, 14.8, 15.1, 11.5, 8.8, 5.81, 3.30])\n",
    "                            }\n",
    "\n",
    "#datele experimentale pierdere locala de saricna\n",
    "\n",
    "debite_pierdere_locala = {'curba 90': np.array([0.509, 0.446, 0.398, 0.345, 0.302, 0.238, 0.199]),\n",
    "                          'curba 45': np.array([0.60, 0.542, 0.509, 0.449, 0.407, 0.320, 0.232]),\n",
    "                          'cot 135': np.array([0.511, 0.438, 0.390, 0.362, 0.310, 0.261]),\n",
    "                          'cot 90':  np.array([0.603, 0.549, 0.500, 0.440, 0.391, 0.334, 0.300, 0.136])\n",
    "                         }\n",
    "\n",
    "presiuni_pierdere_locala = {'curba 90': np.array([1653, 1324.24, 1036.97, 763.29, 559.17, 311.50, 158.3]),\n",
    "                            'curba 45': np.array([22.91, 18.77, 17.08, 13.71, 10.64, 7.34, 3.50]),\n",
    "                            'cot 135': np.array([273.13, 200.49, 160.52, 139.12, 101, 71.47]),\n",
    "                            'cot 90': np.array([204.86, 168.73, 140.89, 109.90, 85.89, 65.56, 49.37, 7.88])           \n",
    "                           }"
   ]
  },
  {
   "cell_type": "markdown",
   "id": "0d4b29a2",
   "metadata": {},
   "source": [
    "Zeta are formula: $\\zeta=\\frac{\\Delta p D^4}{0.0826 \\rho g L Q^2}$\n",
    "\n",
    "Lambda are formula: $\\lambda=\\frac{\\Delta p D^5}{0.0826 \\rho g L Q^2}$\n",
    "\n",
    "Folosim pentru Criteriul Reynolds formula: $Re = \\frac{4Q}{\\nu \\pi D}$\n",
    "\n",
    "Folosim pentru pierderea de sarcina formula $ h = \\frac{\\Delta p}{\\rho g}$"
   ]
  },
  {
   "cell_type": "code",
   "execution_count": 18,
   "id": "e32d416b",
   "metadata": {},
   "outputs": [],
   "source": [
    "class aferim:\n",
    "    def __init__(self, presiune, debit, diametru, key = None):\n",
    "        self.presiune = presiune * pow(10, 2) #conversie mbat --> bar\n",
    "        self.debit    = debit    * pow(10,-3) #comversie  dm^3 --> m^3\n",
    "        self.diametru = diametru * pow(10,-3) #conversie mm -> m\n",
    "        self.key = key\n",
    "    def __repr__(self):\n",
    "        return f'{self.presiune}, {self.debit}, {self.diametru}'\n",
    "    \n",
    "    def lamda(self, ro = 1000, g = 9.81, L = 1):\n",
    "        return self.presiune*pow(self.diametru, 5) / ( 0.0826*ro*g*L*pow(self.debit,2) )\n",
    "    def zeta(self, ro = 1000, g = 9.81, L = 1):\n",
    "        return self.presiune*pow(self.diametru, 4) / ( 0.0826*ro*g*L*pow(self.debit,2) )\n",
    "    \n",
    "    def reynolds(self, niu = pow(10, -6) ):\n",
    "        return 4*self.debit / (np.pi*niu*self.diametru)    \n",
    "    def pierdere_sarcina(self, ro = 1000, g = 10):\n",
    "        return self.presiune / (ro*g)\n",
    "\n",
    "    def df_liniar (self):\n",
    "        data ={'Q (m^3/s)': self.debit,\n",
    "               '\\u0394p (Pa)': self.presiune,\n",
    "               'D(m)': self.diametru,\n",
    "               '\\u03BB': self.lamda(), #lamda\n",
    "               'Re': self.reynolds(), \n",
    "               'S': self.key\n",
    "              }\n",
    "        df = pd.DataFrame(data)\n",
    "        return df\n",
    "\n",
    "    def df_local (self):\n",
    "        data ={'Q (m^3/s)': self.debit,\n",
    "               '\\u0394p (Pa)': self.presiune,\n",
    "               'D(m)': self.diametru,\n",
    "               '\\u03B6': self.zeta(), #zeta\n",
    "               'Re': self.reynolds(),\n",
    "               'Obs': self.key\n",
    "              }\n",
    "        df = pd.DataFrame(data)\n",
    "        return df"
   ]
  },
  {
   "cell_type": "markdown",
   "id": "f14ce493",
   "metadata": {},
   "source": [
    "Pierderi Liniare"
   ]
  },
  {
   "cell_type": "code",
   "execution_count": 20,
   "id": "1332e7ba",
   "metadata": {},
   "outputs": [
    {
     "name": "stdout",
     "output_type": "stream",
     "text": [
      "   Q (m^3/s)  Δp (Pa)   D(m)         λ            Re  S\n",
      "0   0.000880  14840.0  0.015  0.017959  74696.719958  1\n",
      "1   0.000844  13513.0  0.015  0.017778  71640.945050  1\n",
      "2   0.000742  10767.0  0.015  0.018327  62982.916146  1\n",
      "3   0.000608   7538.0  0.015  0.019110  51608.642880  1\n",
      "4   0.000471   4753.0  0.015  0.020079  39979.721705  1\n",
      "5   0.000403   3564.0  0.015  0.020565  34207.702435  1\n",
      "6   0.000323   2360.0  0.015  0.021199  27417.091530  1\n",
      "7   0.000293   2007.0  0.015  0.021909  24870.612440  1\n",
      "8   0.000107    258.0  0.015  0.021118   9082.442086  1\n",
      "   Q (m^3/s)  Δp (Pa)   D(m)         λ             Re  S\n",
      "0   0.001196   4332.0  0.015  0.002838  101519.633034  2\n",
      "1   0.000996   2958.0  0.015  0.002794   84543.105770  2\n",
      "2   0.000882   2475.0  0.015  0.002982   74866.485230  2\n",
      "3   0.000805   2046.0  0.015  0.002959   68330.522234  2\n",
      "4   0.000701   1558.0  0.015  0.002971   59502.728057  2\n",
      "5   0.000640   1332.0  0.015  0.003048   54324.887242  2\n",
      "6   0.000547    979.0  0.015  0.003066   46430.802065  2\n",
      "7   0.000405    542.0  0.015  0.003097   34377.467708  2\n",
      "8   0.000330    358.0  0.015  0.003081   28011.269984  2\n",
      "   Q (m^3/s)  Δp (Pa)   D(m)         λ            Re  S\n",
      "0   0.001075   8995.0  0.015  0.007294  91248.834039  3\n",
      "1   0.000917   6633.0  0.015  0.007392  77837.377501  3\n",
      "2   0.000718   4907.0  0.015  0.008920  60945.732875  3\n",
      "3   0.000692   3917.0  0.015  0.007666  58738.784330  3\n",
      "4   0.000613   3104.0  0.015  0.007741  52033.056062  3\n",
      "5   0.000516   2268.0  0.015  0.007983  43799.440339  3\n",
      "6   0.000390   1325.0  0.015  0.008164  33104.228163  3\n",
      "7   0.000238    481.0  0.015  0.007958  20202.067443  3\n",
      "8   0.000233    450.0  0.015  0.007768  19777.654262  3\n",
      "   Q (m^3/s)  Δp (Pa)   D(m)         λ             Re  S\n",
      "0    0.00124   3530.0  0.015  0.002151  105254.469031  4\n",
      "1    0.00105   2530.0  0.015  0.002151   89126.768131  4\n",
      "2    0.00088   1850.0  0.015  0.002239   74696.719958  4\n",
      "3    0.00080   1480.0  0.015  0.002167   67906.109053  4\n",
      "4    0.00079   1510.0  0.015  0.002267   67057.282689  4\n",
      "5    0.00069   1150.0  0.015  0.002264   58569.019058  4\n",
      "6    0.00060    880.0  0.015  0.002291   50929.581789  4\n",
      "7    0.00050    581.0  0.015  0.002178   42441.318158  4\n",
      "8    0.00040    330.0  0.015  0.001933   33953.054526  4\n"
     ]
    }
   ],
   "source": [
    "#s_1 = aferim(debit = debite_pierdere_liniara['1'], presiune = presiuni_pierdere_liniara['1'], diametru = diametre[0])\n",
    "#print(s_1.df_lamda()) #testcase\n",
    "\n",
    "masuratori_pierdere_liniara = []\n",
    "for key in debite_pierdere_liniara.keys():\n",
    "    i = 0\n",
    "    obiect = aferim(debit = debite_pierdere_liniara[key], presiune = presiuni_pierdere_liniara[key], diametru = diametre[i], key = key)\n",
    "    masuratori_pierdere_liniara.append(obiect)\n",
    "    i += 1\n",
    "    \n",
    "for i in masuratori_pierdere_liniara:\n",
    "    print(i.df_liniar())"
   ]
  },
  {
   "cell_type": "markdown",
   "id": "f5b8c2a4",
   "metadata": {},
   "source": [
    "Pierderi Locale"
   ]
  },
  {
   "cell_type": "code",
   "execution_count": 21,
   "id": "0ff83e4d",
   "metadata": {},
   "outputs": [
    {
     "name": "stdout",
     "output_type": "stream",
     "text": [
      "   Q (m^3/s)   Δp (Pa)   D(m)          ζ            Re       Obs\n",
      "0   0.000509  165300.0  0.015  39.861466  43205.261885  curba 90\n",
      "1   0.000446  132424.0  0.015  41.592303  37857.655797  curba 90\n",
      "2   0.000398  103697.0  0.015  40.899315  33783.289254  curba 90\n",
      "3   0.000345   76329.0  0.015  40.065205  29284.509529  curba 90\n",
      "4   0.000302   55917.0  0.015  38.304161  25634.556167  curba 90\n",
      "5   0.000238   31150.0  0.015  34.357386  20202.067443  curba 90\n",
      "6   0.000199   15830.0  0.015  24.974152  16891.644627  curba 90\n",
      "   Q (m^3/s)  Δp (Pa)   D(m)         ζ            Re       Obs\n",
      "0   0.000600   2291.0  0.015  0.397593  50929.581789  curba 45\n",
      "1   0.000542   1877.0  0.015  0.399192  46006.388883  curba 45\n",
      "2   0.000509   1708.0  0.015  0.411878  43205.261885  curba 45\n",
      "3   0.000449   1371.0  0.015  0.424875  38112.303706  curba 45\n",
      "4   0.000407   1064.0  0.015  0.401300  34547.232980  curba 45\n",
      "5   0.000320    734.0  0.015  0.447829  27162.443621  curba 45\n",
      "6   0.000232    350.0  0.015  0.406264  19692.771625  curba 45\n",
      "   Q (m^3/s)  Δp (Pa)   D(m)         ζ            Re      Obs\n",
      "0   0.000511  27313.0  0.015  6.534970  43375.027157  cot 135\n",
      "1   0.000438  20049.0  0.015  6.529208  37178.594706  cot 135\n",
      "2   0.000390  16052.0  0.015  6.593499  33104.228163  cot 135\n",
      "3   0.000362  13912.0  0.015  6.632670  30727.514346  cot 135\n",
      "4   0.000310  10100.0  0.015  6.566198  26313.617258  cot 135\n",
      "5   0.000261   7147.0  0.015  6.554789  22154.368078  cot 135\n",
      "   Q (m^3/s)  Δp (Pa)   D(m)         ζ            Re     Obs\n",
      "0   0.000603  20486.0  0.015  3.519966  51184.229698  cot 90\n",
      "1   0.000549  16873.0  0.015  3.497547  46600.567337  cot 90\n",
      "2   0.000500  14089.0  0.015  3.520920  42441.318158  cot 90\n",
      "3   0.000440  10990.0  0.015  3.546568  37348.359979  cot 90\n",
      "4   0.000391   8589.0  0.015  3.509983  33189.110799  cot 90\n",
      "5   0.000334   6556.0  0.015  3.671656  28350.800529  cot 90\n",
      "6   0.000300   4937.0  0.015  3.427178  25464.790895  cot 90\n",
      "7   0.000136    788.0  0.015  2.661732  11544.038539  cot 90\n"
     ]
    }
   ],
   "source": [
    "masuratori_pierdere_locala = []\n",
    "#diametrul ramane constant la pierderea locala deoarece este acelasi pentru toate piesele\n",
    "for key in debite_pierdere_locala.keys():\n",
    "    obiect = aferim(debit = debite_pierdere_locala[key], presiune = presiuni_pierdere_locala[key], diametru = diametre[0], key = key)\n",
    "    masuratori_pierdere_locala.append(obiect)\n",
    "\n",
    "for i in masuratori_pierdere_locala:\n",
    "    print(i.df_local())"
   ]
  },
  {
   "cell_type": "code",
   "execution_count": null,
   "id": "48dc5fc9",
   "metadata": {},
   "outputs": [],
   "source": []
  }
 ],
 "metadata": {
  "kernelspec": {
   "display_name": "Python 3 (ipykernel)",
   "language": "python",
   "name": "python3"
  },
  "language_info": {
   "codemirror_mode": {
    "name": "ipython",
    "version": 3
   },
   "file_extension": ".py",
   "mimetype": "text/x-python",
   "name": "python",
   "nbconvert_exporter": "python",
   "pygments_lexer": "ipython3",
   "version": "3.9.12"
  }
 },
 "nbformat": 4,
 "nbformat_minor": 5
}
