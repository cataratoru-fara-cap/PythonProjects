{
 "cells": [
  {
   "cell_type": "code",
   "execution_count": 1,
   "id": "5c283419",
   "metadata": {},
   "outputs": [],
   "source": [
    "%matplotlib inline\n",
    "import math\n",
    "import matplotlib.pyplot as plt\n",
    "import numpy as np"
   ]
  },
  {
   "cell_type": "code",
   "execution_count": 2,
   "id": "476d62f6",
   "metadata": {},
   "outputs": [
    {
     "name": "stdout",
     "output_type": "stream",
     "text": [
      "45.0\n",
      "0.7071067811865476\n"
     ]
    }
   ],
   "source": [
    "#date det\n",
    "S = [54, 294, 774, 1574, 2534]\n",
    "ro_aer = 1.21 \n",
    "ro_k = 790 \n",
    "theta = math.pi/4\n",
    "print (math.degrees(theta))\n",
    "print(math.cos(theta))"
   ]
  },
  {
   "cell_type": "code",
   "execution_count": 3,
   "id": "f1e320e2",
   "metadata": {},
   "outputs": [],
   "source": [
    "#date masurate\n",
    "Lt_1 = [120, 120, 100, 100, 100, 100, 100, 100, 100, 100]\n",
    "Lt_2 = [132, 120, 108, 100, 100, 100, 100, 110, 100, 110]\n",
    "Lt_3 = [143, 133, 122, 122, 117, 108, 111, 102, 100, 115]\n",
    "Lt_4 = [150, 140, 130, 130, 124, 121, 114, 112, 100, 111]\n",
    "\n",
    "LT = [Lt_1, Lt_2, Lt_3, Lt_4]\n",
    "LS = [156, 161, 177, 172]"
   ]
  },
  {
   "cell_type": "code",
   "execution_count": 4,
   "id": "9dae3d3b",
   "metadata": {},
   "outputs": [
    {
     "name": "stdout",
     "output_type": "stream",
     "text": [
      "[0.025455844122715714, 0.025455844122715714, 0.03959797974644666, 0.03959797974644666, 0.03959797974644666, 0.03959797974644666, 0.03959797974644666, 0.03959797974644666, 0.03959797974644666, 0.03959797974644666]\n"
     ]
    }
   ],
   "source": [
    "#date calculate\n",
    "delta_h_1 = list((LS[0] - LT[0][i])*math.cos(theta)/1000 for i in range(len(Lt_1)))\n",
    "delta_h_2 = list((LS[1] - LT[1][i])*math.cos(theta)/1000 for i in range(len(Lt_1)))\n",
    "delta_h_3 = list((LS[2] - LT[2][i])*math.cos(theta)/1000 for i in range(len(Lt_1)))\n",
    "delta_h_4 = list((LS[3] - LT[3][i])*math.cos(theta)/1000 for i in range(len(Lt_1)))\n",
    "\n",
    "print (delta_h_1)\n"
   ]
  },
  {
   "cell_type": "code",
   "execution_count": 5,
   "id": "552fa251",
   "metadata": {},
   "outputs": [
    {
     "name": "stdout",
     "output_type": "stream",
     "text": [
      "[197.28024636663451, 197.28024636663451, 306.880383236987, 306.880383236987, 306.880383236987, 306.880383236987, 306.880383236987, 306.880383236987, 306.880383236987, 306.880383236987] [158.92019846201114, 224.68028058422266, 290.4403627064342, 334.2804174545751, 334.2804174545751, 334.2804174545751, 334.2804174545751, 279.48034901939883, 334.2804174545751, 279.48034901939883] [186.32023267959926, 241.12030111477554, 301.4003763934694, 301.4003763934694, 328.80041061105754, 378.12047220271614, 361.68045167216326, 411.00051326382186, 421.9605269508572, 339.7604242980928] [120.56015055738777, 175.36021899256403, 230.16028742774026, 230.16028742774026, 263.04032848884606, 279.48034901939883, 317.8403969240223, 328.80041061105754, 394.56049273326903, 334.2804174545751]\n"
     ]
    }
   ],
   "source": [
    "delta_p_1 = list(ro_k* (g := 9.81) * delta_h_1[i]  for i in range(len(delta_h_1)))\n",
    "delta_p_2 = list(ro_k* (g := 9.81) * delta_h_2[i]  for i in range(len(delta_h_2)))\n",
    "delta_p_3 = list(ro_k* (g := 9.81) * delta_h_3[i]  for i in range(len(delta_h_3)))\n",
    "delta_p_4 = list(ro_k* (g := 9.81) * delta_h_4[i]  for i in range(len(delta_h_4)))\n",
    "\n",
    "print(delta_p_1, delta_p_2, delta_p_3, delta_p_4)"
   ]
  },
  {
   "cell_type": "code",
   "execution_count": 6,
   "id": "fe485dcd",
   "metadata": {},
   "outputs": [
    {
     "name": "stdout",
     "output_type": "stream",
     "text": [
      "[18.057769846957207, 18.057769846957207, 22.521995978843723, 22.521995978843723, 22.521995978843723, 22.521995978843723, 22.521995978843723, 22.521995978843723, 22.521995978843723, 22.521995978843723]\n",
      "[16.207344445861427, 19.27102396350596, 21.91042480686412, 23.505948515799076, 23.505948515799076, 23.505948515799076, 23.505948515799076, 21.49304515685734, 23.505948515799076, 21.49304515685734]\n",
      "[17.548997884299244, 19.963615710983504, 22.32000090322095, 22.32000090322095, 23.312480628970572, 24.99985032030287, 24.450335956459597, 26.064145705262625, 26.40938122046213, 23.69783699367235]\n",
      "[14.116408046238734, 17.025028682519206, 19.50462066160964, 19.50462066160964, 20.8513165642101, 21.49304515685734, 22.920646325389487, 23.312480628970572, 25.53754302377881, 23.505948515799076]\n"
     ]
    }
   ],
   "source": [
    "v_1 = list(math.sqrt(2*delta_p_1[i]/ro_aer) for i in  range(len(delta_p_1)))\n",
    "v_2 = list(math.sqrt(2*delta_p_2[i]/ro_aer) for i in  range(len(delta_p_2)))\n",
    "v_3 = list(math.sqrt(2*delta_p_3[i]/ro_aer) for i in  range(len(delta_p_3)))\n",
    "v_4 = list(math.sqrt(2*delta_p_4[i]/ro_aer) for i in  range(len(delta_p_4)))\n",
    "\n",
    "print(v_1)\n",
    "print(v_2)\n",
    "print(v_3)\n",
    "print(v_4)"
   ]
  },
  {
   "cell_type": "code",
   "execution_count": 7,
   "id": "da38e567",
   "metadata": {},
   "outputs": [
    {
     "data": {
      "image/png": "[encoded data removed]",
      "text/plain": [
       "<Figure size 432x288 with 1 Axes>"
      ]
     },
     "metadata": {
      "needs_background": "light"
     },
     "output_type": "display_data"
    }
   ],
   "source": [
    "#GRAFIC\n",
    "\n",
    "x = v_4\n",
    "y = [0, 3, 10, 20, 30, 40, 50, 60, 70, 80]\n",
    "\n",
    "\n",
    "plt.plot(x, y, 'o', color='black'\n",
    "        );\n",
    "plt.show()\n"
   ]
  }
 ],
 "metadata": {
  "kernelspec": {
   "display_name": "Python 3 (ipykernel)",
   "language": "python",
   "name": "python3"
  },
  "language_info": {
   "codemirror_mode": {
    "name": "ipython",
    "version": 3
   },
   "file_extension": ".py",
   "mimetype": "text/x-python",
   "name": "python",
   "nbconvert_exporter": "python",
   "pygments_lexer": "ipython3",
   "version": "3.9.12"
  }
 },
 "nbformat": 4,
 "nbformat_minor": 5
}
