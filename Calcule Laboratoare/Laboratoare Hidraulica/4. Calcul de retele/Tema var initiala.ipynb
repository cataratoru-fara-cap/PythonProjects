{
 "cells": [
  {
   "cell_type": "markdown",
   "id": "5d44e16f",
   "metadata": {},
   "source": [
    "# The method is as follows:\n",
    "    \n",
    "1. Guess the flows in each pipe, making sure that the total in flow is equal to the total out flow at each junction. (The guess doesn't have to be good, but a good guess will reduce the time it takes to find the solution.)   \n",
    "2. Determine each closed loop in the system.    \n",
    "3. For each loop, determine the clockwise head losses and counter-clockwise head losses. Head loss in each pipe is calculated using  $h_f = r Q^{n}$. Clockwise head losses are from flows in the clockwise direction and likewise for counter-clockwise.\n",
    "4. Determine the total head loss in the loop, $\\Sigma r Q^{n}$, by subtracting the counter-clockwise head loss from the clockwise head loss.\n",
    "5. For each loop, find $\\Sigma n r Q^{n - 1}$ without reference to direction (all values should be positive).\n",
    "6. The change in flow is equal to $\\frac{\\Sigma r Q^{n}}{\\Sigma n r Q^{n -1}}$ .\n",
    "7. If the change in flow is positive, apply it to all pipes of the loop in the counter-clockwise direction. If the change in flow is negative, apply it to all pipes of the loop in the clockwise direction.\n",
    "8. Continue from step 3 until the change in flow is within a satisfactory range."
   ]
  },
  {
   "cell_type": "code",
   "execution_count": 1,
   "id": "c329ee8b",
   "metadata": {},
   "outputs": [],
   "source": [
    "from numpy import array as arr"
   ]
  },
  {
   "cell_type": "code",
   "execution_count": 2,
   "id": "f97bd0e8",
   "metadata": {},
   "outputs": [],
   "source": [
    "#n = 2\n",
    "P_servici =  10 + 1 #metri\n",
    "Q = {'a': 10 + 1, #litru/secunda\n",
    "     'b': 12 + 1,\n",
    "     'c': 8.5 + 1,\n",
    "     'd': 11 + 1,\n",
    "     'e': 7.5 + 1,\n",
    "     'q_dist': 0.01, #litru/ (secunda x metru)\n",
    "     }\n",
    "Q_in = 58 #l/s\n",
    "D = {'3': 50, #mm\n",
    "     '6':75,\n",
    "     '15':125,\n",
    "     '40':150,\n",
    "     '75':200,\n",
    "     '120':250,\n",
    "     '180': 300, #valorile reprezinta pragul de schimbare al diametrului in fct de debit\n",
    "    \n",
    "    }"
   ]
  },
  {
   "cell_type": "code",
   "execution_count": 3,
   "id": "84a97a8a",
   "metadata": {},
   "outputs": [],
   "source": [
    "def reverse(string):\n",
    "    new_string = ''\n",
    "    for char in string:\n",
    "        new_string = char + new_string\n",
    "        print(new_string)\n",
    "    return new_string\n",
    "\n",
    "def hardy_cross_M(L, D): \n",
    "    lamda = 0.021 / pow(D, 0.3)\n",
    "    return 0.0826 * lamda * pow(L, 2) / pow(D, 5)\n",
    "\n",
    "def hardy_cross_numerator(M, Q, n = 2):\n",
    "    return M*Q*pow(abs(Q), n-1)\n",
    "\n",
    "def hardy_cross_denominator(M, Q, n = 2):\n",
    "    return n*M*pow(abs(Q), n-1)\n",
    "\n",
    "def hardy_cross_flow_correction(numerator, denominator):\n",
    "    return -1* numerator/denominator"
   ]
  },
  {
   "cell_type": "code",
   "execution_count": 4,
   "id": "6cb4663b",
   "metadata": {},
   "outputs": [
    {
     "name": "stdout",
     "output_type": "stream",
     "text": [
      "{'loop 0': [1614268.0842028141, 306789744.11046475, 194764919.083715, 1614268.0842028141], 'loop 1': [16970563.213011153, 63596708.272233464, 170035004178487.8, 306789744.11046475], 'loop 2': [194764919.083715, 170035004178487.8, 1060660.200813197]}\n"
     ]
    }
   ],
   "source": [
    "#solutii initiale            # nume, debit, diametru, lungime\n",
    "\n",
    "loop_0 = { '1-2':  [ 28 * pow(10,-3), 150 * pow(10,-3) , 200], # trandf dim l ->m^3, mm ->m\n",
    "           '2-6':  [  1 * pow(10,-3),  50 * pow(10,-3) , 150],\n",
    "           '6-5':  [ -4 * pow(10,-3),  75 * pow(10,-3) , 350],\n",
    "           '5-1':  [-28 * pow(10,-3), 150 * pow(10,-3) , 200]\n",
    "                                                                }\n",
    "loop_1 = { '2-3':  [ 15 * pow(10,-3), 125 * pow(10,-3) , 400],\n",
    "           '3-4':  [  3 * pow(10,-3),  75 * pow(10,-3) , 200],\n",
    "           '4-6':  [  3 * pow(10,-3),   5 * pow(10,-3) , 250],\n",
    "           '6-2':  [ -1 * pow(10,-3),  50 * pow(10,-3) , 150]\n",
    "                                                                }\n",
    "loop_2 = { '6-4':  [  4 * pow(10,-3),  75 * pow(10,-3) , 350],\n",
    "           '4-5':  [ -3 * pow(10,-3),   5 * pow(10,-3) , 250],\n",
    "           '5-6':  [-11 * pow(10,-3), 125 * pow(10,-3) , 100]\n",
    "                                                                } \n",
    "\n",
    "loops = [loop_0, loop_1, loop_2]\n",
    "\n",
    "module_rezistenta = {'loop 0': [],\n",
    "                     'loop 1': [],\n",
    "                     'loop 2': []}\n",
    "\n",
    "def M_appender(loop, M_key):\n",
    "    for loop_data in loop.values():\n",
    "            D = loop_data[1]\n",
    "            L = loop_data[2]\n",
    "            M = hardy_cross_M(L = L, D = D)\n",
    "            module_rezistenta[M_key].append(M)\n",
    "\n",
    "for i, key in enumerate(module_rezistenta.keys()):\n",
    "    M_appender(loops[i], key)\n",
    "    \n",
    "print (module_rezistenta)"
   ]
  },
  {
   "cell_type": "markdown",
   "id": "0703267a",
   "metadata": {},
   "source": [
    "$M = 0.0826 \\frac{{\\lambda L^2}}{{D^5}}$\n",
    "\n",
    "$\\lambda = \\frac {0.021}{D^{0.3}}$\n"
   ]
  },
  {
   "cell_type": "code",
   "execution_count": 5,
   "id": "7786be44",
   "metadata": {},
   "outputs": [],
   "source": [
    "def hardy_cross_loop_correction(M, Q, pipes_name = None): #peticita but works\n",
    "    numerator_sum = 0\n",
    "    denominator_sum = 0\n",
    "    Q = list(Q.values())\n",
    "    for i in range(len(Q)):\n",
    "        numerator_sum += hardy_cross_numerator(M[i], Q[i][0])\n",
    "        denominator_sum += hardy_cross_denominator(M[i], Q[i][0])\n",
    "    \n",
    "    delta_Q = hardy_cross_flow_correction(numerator_sum, denominator_sum)\n",
    "    \n",
    "    return delta_Q"
   ]
  },
  {
   "cell_type": "code",
   "execution_count": 6,
   "id": "656f41a6",
   "metadata": {},
   "outputs": [],
   "source": [
    "#def loop_equilibrator()\n",
    "#    \n",
    "#    while (True):\n",
    "#        if (delta_Q1 - delta_Q2) < :\n",
    "#            break\n",
    "            "
   ]
  },
  {
   "cell_type": "markdown",
   "id": "b84b1416",
   "metadata": {},
   "source": [
    "while (True):\n",
    "    \n",
    "    delta_Q0 = hardy_cross_loop_correction( M = module_rezistenta['loop 0'], Q = loops[0], pipes_name = loops[0].keys() )\n",
    "    delta_Q1 = hardy_cross_loop_correction( M = module_rezistenta['loop 1'], Q = loops[1], pipes_name = loops[1].keys() )\n",
    "    delta_Q2 = hardy_cross_loop_correction( M = module_rezistenta['loop 2'], Q = loops[2], pipes_name = loops[2].keys() )\n",
    "    \n",
    "    delta_Q = [delta_Q0, delta_Q1, delta_Q2]\n",
    "    \n",
    "    \n",
    "    for k, loop in enumerate(loops):\n",
    "        loop_params = list(loop.values())\n",
    "        for pipe_data in loop_params:\n",
    "            debit = pipe_data[0]\n",
    "            debit += delta_Q[k]\n",
    "            \n",
    "        print(new_data)    \n",
    "            \n",
    "    \n",
    "    if ((dQ01-dQ1) <= dQ03/100) and ((dQ02-dQ2) <= dQ03/100) and ((dQ03-dQ3) <= dQ03/100):\n",
    "        break\n",
    "\n"
   ]
  },
  {
   "cell_type": "code",
   "execution_count": null,
   "id": "ab44900a",
   "metadata": {},
   "outputs": [],
   "source": []
  },
  {
   "cell_type": "code",
   "execution_count": null,
   "id": "42ef47cd",
   "metadata": {},
   "outputs": [],
   "source": []
  }
 ],
 "metadata": {
  "kernelspec": {
   "display_name": "Python 3 (ipykernel)",
   "language": "python",
   "name": "python3"
  },
  "language_info": {
   "codemirror_mode": {
    "name": "ipython",
    "version": 3
   },
   "file_extension": ".py",
   "mimetype": "text/x-python",
   "name": "python",
   "nbconvert_exporter": "python",
   "pygments_lexer": "ipython3",
   "version": "3.9.12"
  }
 },
 "nbformat": 4,
 "nbformat_minor": 5
}
