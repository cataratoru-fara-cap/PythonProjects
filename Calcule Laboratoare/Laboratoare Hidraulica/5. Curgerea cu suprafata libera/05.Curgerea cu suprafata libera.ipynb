{
 "cells": [
  {
   "cell_type": "code",
   "execution_count": 1,
   "id": "abb96ff9",
   "metadata": {},
   "outputs": [],
   "source": [
    "import numpy as np\n",
    "from numpy import array as arr\n",
    "from matplotlib import pyplot as plt\n",
    "from scipy.optimize import curve_fit"
   ]
  },
  {
   "cell_type": "code",
   "execution_count": 2,
   "id": "6c379c7a",
   "metadata": {},
   "outputs": [
    {
     "name": "stdout",
     "output_type": "stream",
     "text": [
      "[2.98151461e+00 2.70270270e+00 2.04081633e+00 1.42857143e+00\n",
      " 1.00000000e+00 8.29187396e-01 5.49450549e-01 4.16666667e-01\n",
      " 1.54798762e-01 5.00000000e-04]\n"
     ]
    }
   ],
   "source": [
    "Q = 50/arr([16.77, 18.5, 24.5, 35, 50, 60.3, 91, 120, 323, 100000])\n",
    "\n",
    "data = {'Height(mm)': arr([60, 57, 50, 43, 37, 30, 23, 18, 10, 0.1]),\n",
    "        'Time(s)':   arr([16.77, 18.5, 24.5, 35, 50, 60.3, 91, 120, 323]),\n",
    "        'Q(l/s)':    Q\n",
    "}\n",
    "print(Q)"
   ]
  },
  {
   "cell_type": "code",
   "execution_count": 3,
   "id": "d42df855",
   "metadata": {},
   "outputs": [],
   "source": [
    "x = data['Q(l/s)']\n",
    "y = data['Height(mm)']\n",
    "\n",
    "def log_fn(x, amplitude, phase, offset):\n",
    "    return amplitude * np.log(x + phase) + offset\n",
    "\n",
    "guess_amplitude = np.std(y)**2 # amp is the A param, note how our first guess will be\n",
    "guess_phase = 0 # phase is C param, arbitrary guess\n",
    "guess_offset = np.mean(y) # offset is B param (the vertical translation of the graph)\n",
    "\n",
    "# persist the initial guesses (seed) in a list for the curve_fit method\n",
    "p0=[guess_amplitude,\n",
    "    guess_phase,\n",
    "    guess_offset]\n",
    "\n",
    "popt, pcov = curve_fit(log_fn, x, y, p0=p0)"
   ]
  },
  {
   "cell_type": "code",
   "execution_count": 4,
   "id": "d9112751",
   "metadata": {},
   "outputs": [
    {
     "data": {
      "image/png": "[encoded data removed]",
      "text/plain": [
       "<Figure size 432x288 with 1 Axes>"
      ]
     },
     "metadata": {
      "needs_background": "light"
     },
     "output_type": "display_data"
    }
   ],
   "source": [
    "plt.scatter(data['Q(l/s)'], data['Height(mm)'])\n",
    "plt.plot(x, log_fn(x, *popt), 'r-', label='fit: a=%5.3f, b=%5.3f, c=%5.3f' % tuple(popt))\n",
    "\n",
    "plt.xlabel('Q(l/s)',)\n",
    "plt.ylabel('Height(mm)')\n",
    "plt.legend()\n",
    "plt.grid(True)\n",
    "\n",
    "plt.savefig('Debit fct de inaltimea deversorului.png', dpi = 500)"
   ]
  }
 ],
 "metadata": {
  "kernelspec": {
   "display_name": "Python 3 (ipykernel)",
   "language": "python",
   "name": "python3"
  },
  "language_info": {
   "codemirror_mode": {
    "name": "ipython",
    "version": 3
   },
   "file_extension": ".py",
   "mimetype": "text/x-python",
   "name": "python",
   "nbconvert_exporter": "python",
   "pygments_lexer": "ipython3",
   "version": "3.9.12"
  }
 },
 "nbformat": 4,
 "nbformat_minor": 5
}
