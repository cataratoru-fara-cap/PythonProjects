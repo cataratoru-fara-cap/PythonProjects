{
 "cells": [
  {
   "cell_type": "code",
   "execution_count": 1,
   "id": "4530830e",
   "metadata": {},
   "outputs": [],
   "source": [
    "\n",
    "import numpy as np\n",
    "import pandas as pd\n",
    "from matplotlib import pyplot as plt\n",
    "%matplotlib inline"
   ]
  },
  {
   "cell_type": "code",
   "execution_count": 2,
   "id": "c17ce4bb",
   "metadata": {},
   "outputs": [],
   "source": [
    "#constante\n",
    "r = 40\n",
    "ro_aer = 1.21\n",
    "ro_k = 790\n",
    "g = 9.81\n",
    "theta = np.pi/4"
   ]
  },
  {
   "cell_type": "code",
   "execution_count": 3,
   "id": "69050128",
   "metadata": {},
   "outputs": [],
   "source": [
    "#seturi de variabile\n",
    "r = np.array([0, 5 , 10, 15, 20, 25, 30, 35, 38.5, 40])\n",
    "s1, s2, s3, s4, s5 = 54, 294, 774, 1574, 2534\n",
    "\n",
    "lt_1 = np.array([109, 102, 100, 100, 101, 100, 102, 102, 109, None])\n",
    "lt_2 = np.array([102, 101, 100, 99, 99, 98, 98, 106, 120, None])\n",
    "lt_3 = np.array([100, 100, 100, 98, 102, 109, 108, 120, 136, None])\n",
    "lt_4 = np.array([104, 106, 108, 110, 114, 120, 128, 132, 142, None])\n",
    "lt_5 = np.array([110, 118, 126, 128, 130, 134, 138, 148, 160, None])\n",
    "\n",
    "ls_1, ls_2, ls_3, ls_4, ls_5 = 156, 162, 168, 176, 190"
   ]
  },
  {
   "cell_type": "code",
   "execution_count": 4,
   "id": "0671e372",
   "metadata": {},
   "outputs": [],
   "source": [
    "#diferenta de intaltime, a lichidului din tuburile de pe stand, calcul ajustat la inclinatia de4 45grd a tubului, fiecare element din matrice corespunde unei poziti din interiorul tevii (vezi R)\n",
    "def delta_h(L_s, L_t):\n",
    "    delta_h = []\n",
    "    for i in L_t:\n",
    "        if i is not None:\n",
    "            element = (L_s - i) * np.cos(theta) / 1000\n",
    "        else:\n",
    "            element = None\n",
    "        delta_h.append(element)\n",
    "    return np.array(delta_h)\n",
    "\n",
    "#diferenta de presiune\n",
    "def delta_p(delta_h):\n",
    "    delta_p = []\n",
    "    for i in delta_h:\n",
    "        if i is not None:\n",
    "            element = ro_k*g*i\n",
    "        else:\n",
    "            element = None\n",
    "        delta_p.append(element)\n",
    "    return delta_p\n",
    "\n",
    "#viteza dedusa din diferenta de presiune\n",
    "def v(delta_p):\n",
    "    v = []\n",
    "    for i in delta_p:\n",
    "        if i is not None:\n",
    "            element = np.sqrt(2*i/ro_aer)\n",
    "        else:\n",
    "            element = 0\n",
    "        v.append(element)\n",
    "    return v"
   ]
  },
  {
   "cell_type": "code",
   "execution_count": 5,
   "id": "61d34e61",
   "metadata": {},
   "outputs": [],
   "source": [
    "#functie care imi creaza un dataframe ca cel din powerpoint\n",
    "def creator_tabel(nr_sectiune, pozitie_sectiune, lt, ls, delta_h, delta_p, v, R = r ):\n",
    "    data = {'nr sec': nr_sectiune,\n",
    "            'poz sec': pozitie_sectiune,\n",
    "            'R': R,\n",
    "            'Lt': lt,\n",
    "            'Ls': ls,\n",
    "            '\\u0394h': delta_h,\n",
    "            '\\u0394p': delta_p,\n",
    "            'v': v}\n",
    "    df = pd.DataFrame(data)\n",
    "    return df"
   ]
  },
  {
   "cell_type": "code",
   "execution_count": 6,
   "id": "d3d03ea6",
   "metadata": {},
   "outputs": [
    {
     "name": "stdout",
     "output_type": "stream",
     "text": [
      "   nr sec  poz sec     R    Lt   Ls        Δh          Δp          v\n",
      "0       1       54   0.0   109  156  0.033234  257.560322  20.632972\n",
      "1       1       54   5.0   102  156  0.038184  295.920370  22.116161\n",
      "2       1       54  10.0   100  156  0.039598  306.880383  22.521996\n",
      "3       1       54  15.0   100  156  0.039598  306.880383  22.521996\n",
      "4       1       54  20.0   101  156  0.038891  301.400376  22.320001\n",
      "5       1       54  25.0   100  156  0.039598  306.880383  22.521996\n",
      "6       1       54  30.0   102  156  0.038184  295.920370  22.116161\n",
      "7       1       54  35.0   102  156  0.038184  295.920370  22.116161\n",
      "8       1       54  38.5   109  156  0.033234  257.560322  20.632972\n",
      "9       1       54  40.0  None  156      None         NaN   0.000000\n"
     ]
    }
   ],
   "source": [
    "d_h1 = delta_h (ls_1, lt_1)\n",
    "d_p1 = delta_p (d_h1)\n",
    "v1 = v (d_p1)\n",
    "df1 = creator_tabel(nr_sectiune = 1, pozitie_sectiune = s1, lt = lt_1 , \n",
    "                   ls = ls_1, delta_h =d_h1, delta_p =d_p1, v = v1 )\n",
    "\n",
    "print(df1)"
   ]
  },
  {
   "cell_type": "code",
   "execution_count": 7,
   "id": "f984a2d5",
   "metadata": {},
   "outputs": [
    {
     "name": "stdout",
     "output_type": "stream",
     "text": [
      "   nr sec  poz sec     R    Lt   Ls        Δh          Δp          v\n",
      "0       2      294   0.0   102  162  0.042426  328.800411  23.312481\n",
      "1       2      294   5.0   101  162  0.043134  334.280417  23.505949\n",
      "2       2      294  10.0   100  162  0.043841  339.760424  23.697837\n",
      "3       2      294  15.0    99  162  0.044548  345.240431  23.888184\n",
      "4       2      294  20.0    99  162  0.044548  345.240431  23.888184\n",
      "5       2      294  25.0    98  162  0.045255  350.720438  24.077026\n",
      "6       2      294  30.0    98  162  0.045255  350.720438  24.077026\n",
      "7       2      294  35.0   106  162  0.039598  306.880383  22.521996\n",
      "8       2      294  38.5   120  162  0.029698  230.160287  19.504621\n",
      "9       2      294  40.0  None  162      None         NaN   0.000000\n"
     ]
    }
   ],
   "source": [
    "d_h2 = delta_h (ls_2, lt_2)\n",
    "d_p2 = delta_p (d_h2)\n",
    "v2 = v (d_p2)\n",
    "df2 = creator_tabel(nr_sectiune = 2, pozitie_sectiune = s2, lt = lt_2 , \n",
    "                   ls = ls_2, delta_h =d_h2, delta_p =d_p2, v = v2 )\n",
    "\n",
    "print(df2)"
   ]
  },
  {
   "cell_type": "code",
   "execution_count": 8,
   "id": "163389de",
   "metadata": {},
   "outputs": [
    {
     "name": "stdout",
     "output_type": "stream",
     "text": [
      "   nr sec  poz sec     R    Lt   Ls        Δh          Δp          v\n",
      "0       3      774   0.0   100  168  0.048083  372.640465  24.818031\n",
      "1       3      774   5.0   100  168  0.048083  372.640465  24.818031\n",
      "2       3      774  10.0   100  168  0.048083  372.640465  24.818031\n",
      "3       3      774  15.0    98  168  0.049497  383.600479  25.180357\n",
      "4       3      774  20.0   102  168  0.046669  361.680452  24.450336\n",
      "5       3      774  25.0   109  168  0.041719  323.320404  23.117394\n",
      "6       3      774  30.0   108  168  0.042426  328.800411  23.312481\n",
      "7       3      774  35.0   120  168  0.033941  263.040328  20.851317\n",
      "8       3      774  38.5   136  168  0.022627  175.360219  17.025029\n",
      "9       3      774  40.0  None  168      None         NaN   0.000000\n"
     ]
    }
   ],
   "source": [
    "d_h3 = delta_h (ls_3, lt_3)\n",
    "d_p3 = delta_p (d_h3)\n",
    "v3 = v (d_p3)\n",
    "df3 = creator_tabel(nr_sectiune = 3, pozitie_sectiune = s3, lt = lt_3 , \n",
    "                   ls = ls_3, delta_h = d_h3, delta_p = d_p3, v = v3 )\n",
    "\n",
    "print(df3)"
   ]
  },
  {
   "cell_type": "code",
   "execution_count": 9,
   "id": "c049dccb",
   "metadata": {},
   "outputs": [
    {
     "name": "stdout",
     "output_type": "stream",
     "text": [
      "   nr sec  poz sec     R    Lt   Ls        Δh          Δp          v\n",
      "0       4     1574   0.0   104  176  0.050912  394.560493  25.537543\n",
      "1       4     1574   5.0   106  176  0.049497  383.600479  25.180357\n",
      "2       4     1574  10.0   108  176  0.048083  372.640465  24.818031\n",
      "3       4     1574  15.0   110  176  0.046669  361.680452  24.450336\n",
      "4       4     1574  20.0   114  176  0.043841  339.760424  23.697837\n",
      "5       4     1574  25.0   120  176  0.039598  306.880383  22.521996\n",
      "6       4     1574  30.0   128  176  0.033941  263.040328  20.851317\n",
      "7       4     1574  35.0   132  176  0.031113  241.120301  19.963616\n",
      "8       4     1574  38.5   142  176  0.024042  186.320233  17.548998\n",
      "9       4     1574  40.0  None  176      None         NaN   0.000000\n"
     ]
    }
   ],
   "source": [
    "d_h4 = delta_h (ls_4, lt_4)\n",
    "d_p4 = delta_p (d_h4)\n",
    "v4 = v (d_p4)\n",
    "df4 = creator_tabel(nr_sectiune = 4, pozitie_sectiune = s4, lt = lt_4 , \n",
    "                   ls = ls_4, delta_h =d_h4, delta_p =d_p4, v = v4 )\n",
    "\n",
    "print(df4)"
   ]
  },
  {
   "cell_type": "code",
   "execution_count": 10,
   "id": "dce38195",
   "metadata": {
    "scrolled": true
   },
   "outputs": [
    {
     "name": "stdout",
     "output_type": "stream",
     "text": [
      "   nr sec  poz sec     R    Lt   Ls        Δh          Δp          v\n",
      "0       5     2534   0.0   110  190  0.056569  438.400547  26.918934\n",
      "1       5     2534   5.0   118  190  0.050912  394.560493  25.537543\n",
      "2       5     2534  10.0   126  190  0.045255  350.720438  24.077026\n",
      "3       5     2534  15.0   128  190  0.043841  339.760424  23.697837\n",
      "4       5     2534  20.0   130  190  0.042426  328.800411  23.312481\n",
      "5       5     2534  25.0   134  190  0.039598  306.880383  22.521996\n",
      "6       5     2534  30.0   138  190   0.03677  284.960356  21.702738\n",
      "7       5     2534  35.0   148  190  0.029698  230.160287  19.504621\n",
      "8       5     2534  38.5   160  190  0.021213  164.400205  16.484413\n",
      "9       5     2534  40.0  None  190      None         NaN   0.000000\n"
     ]
    }
   ],
   "source": [
    "d_h5 = delta_h (ls_5, lt_5)\n",
    "d_p5 = delta_p (d_h5)\n",
    "v5 = v (d_p5)\n",
    "df5 = creator_tabel(nr_sectiune = 5, pozitie_sectiune = s5, lt = lt_5 , \n",
    "                   ls = ls_5, delta_h =d_h5, delta_p =d_p5, v = v5 )\n",
    "\n",
    "print(df5)"
   ]
  },
  {
   "cell_type": "code",
   "execution_count": null,
   "id": "85743369",
   "metadata": {},
   "outputs": [],
   "source": []
  },
  {
   "cell_type": "code",
   "execution_count": 11,
   "id": "8b36048c",
   "metadata": {},
   "outputs": [],
   "source": [
    "with pd.ExcelWriter('output.xlsx') as writer:  \n",
    "\n",
    "    df1.to_excel(writer, sheet_name='Masuratori S1')\n",
    "    df2.to_excel(writer, sheet_name='Masuratori S2')    \n",
    "    df3.to_excel(writer, sheet_name='Masuratori S3')\n",
    "    df4.to_excel(writer, sheet_name='Masuratori S4')    \n",
    "    df5.to_excel(writer, sheet_name='Masuratori S5')    "
   ]
  },
  {
   "cell_type": "code",
   "execution_count": 49,
   "id": "f6e38400",
   "metadata": {},
   "outputs": [
    {
     "name": "stdout",
     "output_type": "stream",
     "text": [
      "[20.63297215 22.11616101 22.52199598 22.52199598 22.3200009  22.52199598\n",
      " 22.11616101 22.11616101 20.63297215  0.          0.         20.63297215\n",
      " 22.11616101 22.11616101 22.52199598 22.3200009  22.52199598 22.52199598\n",
      " 22.11616101 20.63297215] \n",
      " [  0.    5.   10.   15.   20.   25.   30.   35.   38.5  40.  -40.  -35.\n",
      " -30.  -25.  -20.  -15.  -10.   -5.   -1.5   0. ]\n"
     ]
    }
   ],
   "source": [
    "img_v1 = np.flip(v1)\n",
    "x1 = np.append(v1, img_v1)\n",
    "y = np.append(r, r-40) \n",
    "\n",
    "print(x1, '\\n', y)"
   ]
  },
  {
   "cell_type": "code",
   "execution_count": 50,
   "id": "2e6f54ac",
   "metadata": {},
   "outputs": [
    {
     "data": {
      "image/png": "[encoded data removed]",
      "text/plain": [
       "<Figure size 432x288 with 1 Axes>"
      ]
     },
     "metadata": {
      "needs_background": "light"
     },
     "output_type": "display_data"
    }
   ],
   "source": [
    "\n",
    "\n",
    "\n",
    "plt.plot(x1, y, color = \"green\", marker='o', label = \"S1\")\n",
    "#plt.plot(x2, y, color = \"red\", marker='o', label = \"S2\")\n",
    "#plt.plot(x3, y, color = \"blue\", marker='o', label = \"S3\")\n",
    "\n",
    "#plt.xticks( x, [\"v1\", \"T2\", \"T3\", \"T4\", \"T5\", \"T6\", \"T7\", \"T8\", \"T9\"] )\n",
    "plt.xticks( x )\n",
    "plt.yticks( y )\n",
    "\n",
    "\n",
    "plt.legend()\n",
    "plt.grid(True)\n",
    "plt.xlim(min(x)-10, max(x) + 10 )\n",
    "plt.title(\"Distributie viteze\")\n",
    "\n",
    "plt.show()"
   ]
  }
 ],
 "metadata": {
  "kernelspec": {
   "display_name": "Python 3 (ipykernel)",
   "language": "python",
   "name": "python3"
  },
  "language_info": {
   "codemirror_mode": {
    "name": "ipython",
    "version": 3
   },
   "file_extension": ".py",
   "mimetype": "text/x-python",
   "name": "python",
   "nbconvert_exporter": "python",
   "pygments_lexer": "ipython3",
   "version": "3.9.12"
  }
 },
 "nbformat": 4,
 "nbformat_minor": 5
}
