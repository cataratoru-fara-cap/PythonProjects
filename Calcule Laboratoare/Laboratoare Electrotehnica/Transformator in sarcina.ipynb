{
 "cells": [
  {
   "cell_type": "code",
   "execution_count": 1,
   "id": "6caf6877",
   "metadata": {},
   "outputs": [],
   "source": [
    "from numpy import array as arr\n",
    "from pandas import DataFrame as df\n",
    "from matplotlib import pyplot as plt"
   ]
  },
  {
   "cell_type": "code",
   "execution_count": 2,
   "id": "7c3507d5",
   "metadata": {},
   "outputs": [],
   "source": [
    "U1, Sn, U1n, U2n, I1n, I2n, U30 = 220, 650, 220, 24, 3.2, 27, 5\n",
    "I1 = arr([0.54, 0.9, 1.4, 1.9, 2.4, 2.65, 2.9, 3.14, 3.38, 3.61])\n",
    "P1 = arr([36.1, 163, 288, 403, 519, 574, 625, 682, 734, 784])\n",
    "U2 = arr([25.4, 25, 24.9, 24.5, 24.2, 24, 23.9, 23.7, 23.6, 23.5])\n",
    "I2 = arr([0.3, 5.4, 10.3, 15, 19.4, 21.7, 23.7, 25.9, 28.1, 30.1])\n",
    "\n",
    "data = {'U1': U1,\n",
    "        'I1': I1,\n",
    "        'P1': P1,\n",
    "        'U2': U2,\n",
    "        'I2': I2\n",
    "       }"
   ]
  },
  {
   "cell_type": "code",
   "execution_count": 3,
   "id": "4c2d4771",
   "metadata": {},
   "outputs": [],
   "source": [
    "def beta(I2, I2n):\n",
    "    return I2/I2n\n",
    "def P2(beta, U2n = U2n, I2n = I2n):\n",
    "    return beta*U2n*I2n\n",
    "\n",
    "def rand_ef(P2,P1):\n",
    "    return P2/P1\n",
    "def rand_ef_derivat(P1, U1n = U1n, I1n = I1n): #dedus in laborator\n",
    "    return U1n*I1n/P1\n",
    "\n",
    "def cosfi2(P2, Sn): #dedus din triunghiul puterilor\n",
    "    return P2/S\n",
    "\n",
    "def rand_te_derivat(beta, Sn, cosfi2, P0, Psc): #??? de unde iaiu P0 si Psc\n",
    "    a = (Sn*cosfi2)/(beta*Sn*cosfi2 + pow(beta, 2)*Psc + p0)\n",
    "    b = (beta*Sn*cosfi2*(Sn*cosfi2+ 2*beta*Psc))/pow(beta*Sn*cosfi2+P0+pow(beta, 2)*Psc)\n",
    "    return a - b\n",
    "\n",
    "def U2t (I1, cosfi2, U1 = U1, k = 8.66): # dedus in laborator\n",
    "    #R_sc =  ###?\n",
    "    return U1/k - R_sc*I1*cosfi2/k"
   ]
  },
  {
   "cell_type": "code",
   "execution_count": 4,
   "id": "c0d1b627",
   "metadata": {},
   "outputs": [
    {
     "name": "stdout",
     "output_type": "stream",
     "text": [
      "[0.01111111 0.2        0.38148148 0.55555556 0.71851852 0.8037037\n",
      " 0.87777778 0.95925926 1.04074074 1.11481481]\n",
      "[  7.2 129.6 247.2 360.  465.6 520.8 568.8 621.6 674.4 722.4]\n",
      "[19.50138504  4.3190184   2.44444444  1.74689826  1.35645472  1.22648084\n",
      "  1.1264      1.03225806  0.95912807  0.89795918]\n"
     ]
    }
   ],
   "source": [
    "b = beta (I2, I2n)\n",
    "P_2 = P2(beta = b)\n",
    "rand_ef_d = rand_ef_derivat(P1)\n",
    "print(b)\n",
    "print(P_2)\n",
    "print(rand_ef_d)"
   ]
  },
  {
   "cell_type": "code",
   "execution_count": 5,
   "id": "d89d91ff",
   "metadata": {},
   "outputs": [
    {
     "data": {
      "text/html": [
       "<div>\n",
       "<style scoped>\n",
       "    .dataframe tbody tr th:only-of-type {\n",
       "        vertical-align: middle;\n",
       "    }\n",
       "\n",
       "    .dataframe tbody tr th {\n",
       "        vertical-align: top;\n",
       "    }\n",
       "\n",
       "    .dataframe thead th {\n",
       "        text-align: right;\n",
       "    }\n",
       "</style>\n",
       "<table border=\"1\" class=\"dataframe\">\n",
       "  <thead>\n",
       "    <tr style=\"text-align: right;\">\n",
       "      <th></th>\n",
       "      <th>U1</th>\n",
       "      <th>I1</th>\n",
       "      <th>P1</th>\n",
       "      <th>U2</th>\n",
       "      <th>I2</th>\n",
       "      <th>beta</th>\n",
       "      <th>P_2</th>\n",
       "      <th>rand_ef_derivat</th>\n",
       "    </tr>\n",
       "  </thead>\n",
       "  <tbody>\n",
       "    <tr>\n",
       "      <th>0</th>\n",
       "      <td>220</td>\n",
       "      <td>0.54</td>\n",
       "      <td>36.1</td>\n",
       "      <td>25.4</td>\n",
       "      <td>0.3</td>\n",
       "      <td>0.011111</td>\n",
       "      <td>7.2</td>\n",
       "      <td>19.501385</td>\n",
       "    </tr>\n",
       "    <tr>\n",
       "      <th>1</th>\n",
       "      <td>220</td>\n",
       "      <td>0.90</td>\n",
       "      <td>163.0</td>\n",
       "      <td>25.0</td>\n",
       "      <td>5.4</td>\n",
       "      <td>0.200000</td>\n",
       "      <td>129.6</td>\n",
       "      <td>4.319018</td>\n",
       "    </tr>\n",
       "    <tr>\n",
       "      <th>2</th>\n",
       "      <td>220</td>\n",
       "      <td>1.40</td>\n",
       "      <td>288.0</td>\n",
       "      <td>24.9</td>\n",
       "      <td>10.3</td>\n",
       "      <td>0.381481</td>\n",
       "      <td>247.2</td>\n",
       "      <td>2.444444</td>\n",
       "    </tr>\n",
       "    <tr>\n",
       "      <th>3</th>\n",
       "      <td>220</td>\n",
       "      <td>1.90</td>\n",
       "      <td>403.0</td>\n",
       "      <td>24.5</td>\n",
       "      <td>15.0</td>\n",
       "      <td>0.555556</td>\n",
       "      <td>360.0</td>\n",
       "      <td>1.746898</td>\n",
       "    </tr>\n",
       "    <tr>\n",
       "      <th>4</th>\n",
       "      <td>220</td>\n",
       "      <td>2.40</td>\n",
       "      <td>519.0</td>\n",
       "      <td>24.2</td>\n",
       "      <td>19.4</td>\n",
       "      <td>0.718519</td>\n",
       "      <td>465.6</td>\n",
       "      <td>1.356455</td>\n",
       "    </tr>\n",
       "    <tr>\n",
       "      <th>5</th>\n",
       "      <td>220</td>\n",
       "      <td>2.65</td>\n",
       "      <td>574.0</td>\n",
       "      <td>24.0</td>\n",
       "      <td>21.7</td>\n",
       "      <td>0.803704</td>\n",
       "      <td>520.8</td>\n",
       "      <td>1.226481</td>\n",
       "    </tr>\n",
       "    <tr>\n",
       "      <th>6</th>\n",
       "      <td>220</td>\n",
       "      <td>2.90</td>\n",
       "      <td>625.0</td>\n",
       "      <td>23.9</td>\n",
       "      <td>23.7</td>\n",
       "      <td>0.877778</td>\n",
       "      <td>568.8</td>\n",
       "      <td>1.126400</td>\n",
       "    </tr>\n",
       "    <tr>\n",
       "      <th>7</th>\n",
       "      <td>220</td>\n",
       "      <td>3.14</td>\n",
       "      <td>682.0</td>\n",
       "      <td>23.7</td>\n",
       "      <td>25.9</td>\n",
       "      <td>0.959259</td>\n",
       "      <td>621.6</td>\n",
       "      <td>1.032258</td>\n",
       "    </tr>\n",
       "    <tr>\n",
       "      <th>8</th>\n",
       "      <td>220</td>\n",
       "      <td>3.38</td>\n",
       "      <td>734.0</td>\n",
       "      <td>23.6</td>\n",
       "      <td>28.1</td>\n",
       "      <td>1.040741</td>\n",
       "      <td>674.4</td>\n",
       "      <td>0.959128</td>\n",
       "    </tr>\n",
       "    <tr>\n",
       "      <th>9</th>\n",
       "      <td>220</td>\n",
       "      <td>3.61</td>\n",
       "      <td>784.0</td>\n",
       "      <td>23.5</td>\n",
       "      <td>30.1</td>\n",
       "      <td>1.114815</td>\n",
       "      <td>722.4</td>\n",
       "      <td>0.897959</td>\n",
       "    </tr>\n",
       "  </tbody>\n",
       "</table>\n",
       "</div>"
      ],
      "text/plain": [
       "    U1    I1     P1    U2    I2      beta    P_2  rand_ef_derivat\n",
       "0  220  0.54   36.1  25.4   0.3  0.011111    7.2        19.501385\n",
       "1  220  0.90  163.0  25.0   5.4  0.200000  129.6         4.319018\n",
       "2  220  1.40  288.0  24.9  10.3  0.381481  247.2         2.444444\n",
       "3  220  1.90  403.0  24.5  15.0  0.555556  360.0         1.746898\n",
       "4  220  2.40  519.0  24.2  19.4  0.718519  465.6         1.356455\n",
       "5  220  2.65  574.0  24.0  21.7  0.803704  520.8         1.226481\n",
       "6  220  2.90  625.0  23.9  23.7  0.877778  568.8         1.126400\n",
       "7  220  3.14  682.0  23.7  25.9  0.959259  621.6         1.032258\n",
       "8  220  3.38  734.0  23.6  28.1  1.040741  674.4         0.959128\n",
       "9  220  3.61  784.0  23.5  30.1  1.114815  722.4         0.897959"
      ]
     },
     "execution_count": 5,
     "metadata": {},
     "output_type": "execute_result"
    }
   ],
   "source": [
    "DF = df(data)\n",
    "DF.insert(loc = DF.shape[1], column = 'beta', value = b)\n",
    "DF.insert(loc = DF.shape[1], column = 'P_2', value = P_2)\n",
    "DF.insert(loc = DF.shape[1], column = 'rand_ef_derivat', value = rand_ef_d)\n",
    "#DF.insert(loc = DF.shape[1], column = 'rand_teoretic_derivat', value = rand_t_d)\n",
    "#DF.insert(loc = DF.shape[1], column = 'U2t', value = U2t)\n",
    "DF"
   ]
  },
  {
   "cell_type": "code",
   "execution_count": 12,
   "id": "be5a2cf7",
   "metadata": {},
   "outputs": [
    {
     "data": {
      "image/png": "[encoded data removed]",
      "text/plain": [
       "<Figure size 432x288 with 1 Axes>"
      ]
     },
     "metadata": {
      "needs_background": "light"
     },
     "output_type": "display_data"
    }
   ],
   "source": [
    "plt.title('caracteristica externa a sursei')\n",
    "plt.plot(I2, U2, marker = 'o')\n",
    "\n",
    "plt.ylabel()\n",
    "plt.grid(True)"
   ]
  },
  {
   "cell_type": "code",
   "execution_count": 15,
   "id": "0f536fc9",
   "metadata": {},
   "outputs": [
    {
     "name": "stdout",
     "output_type": "stream",
     "text": [
      "[ 36.1 163.  288.  403.  519.  574.  625.  682.  734.  784. ]\n",
      "[  7.2 129.6 247.2 360.  465.6 520.8 568.8 621.6 674.4 722.4]\n",
      "[0.19944598 0.79509202 0.85833333 0.89330025 0.89710983 0.90731707\n",
      " 0.91008    0.91143695 0.91880109 0.92142857]\n",
      "[0.01111111 0.2        0.38148148 0.55555556 0.71851852 0.8037037\n",
      " 0.87777778 0.95925926 1.04074074 1.11481481]\n"
     ]
    }
   ],
   "source": [
    "print(P1)\n",
    "print(P_2)\n",
    "\n",
    "print(RAND_ef)\n",
    "print(b)"
   ]
  },
  {
   "cell_type": "code",
   "execution_count": 18,
   "id": "ce6e004d",
   "metadata": {},
   "outputs": [
    {
     "data": {
      "image/png": "[encoded data removed]",
      "text/plain": [
       "<Figure size 432x288 with 1 Axes>"
      ]
     },
     "metadata": {
      "needs_background": "light"
     },
     "output_type": "display_data"
    }
   ],
   "source": [
    "RAND_ef = rand_ef(P1 = P1, P2 = P_2)\n",
    "plt.plot( b,RAND_ef, marker = 'o')\n",
    "\n",
    "plt.title('Randament fct de beta')\n",
    "plt.ylabel('rand')\n",
    "plt.xlabel('beta')\n",
    "plt.grid(True)"
   ]
  }
 ],
 "metadata": {
  "kernelspec": {
   "display_name": "Python 3 (ipykernel)",
   "language": "python",
   "name": "python3"
  },
  "language_info": {
   "codemirror_mode": {
    "name": "ipython",
    "version": 3
   },
   "file_extension": ".py",
   "mimetype": "text/x-python",
   "name": "python",
   "nbconvert_exporter": "python",
   "pygments_lexer": "ipython3",
   "version": "3.9.12"
  }
 },
 "nbformat": 4,
 "nbformat_minor": 5
}
