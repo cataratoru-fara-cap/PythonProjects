{
 "cells": [
  {
   "cell_type": "code",
   "execution_count": 1,
   "id": "e9b5ed10",
   "metadata": {},
   "outputs": [],
   "source": [
    "import math\n",
    "import numpy as np"
   ]
  },
  {
   "cell_type": "code",
   "execution_count": 2,
   "id": "d626fd4d",
   "metadata": {},
   "outputs": [],
   "source": [
    "# Declaram variabile tabe 1\n",
    "U = 220.0\n",
    "\n",
    "I_r = [2.9, 6.4, 6, 3.35]\n",
    "I_i = [3, 6.4, 2.6, 5.2]\n",
    "I_c =  [3, 6.4, 9.4, 4.5]\n",
    "I_ron = [0, 6.6, 6.2, 0.93]\n",
    "\n",
    "I = [I_r, I_i, I_c, I_ron]\n",
    "\n",
    "P = [710, 705, 730, 81.5]\n"
   ]
  },
  {
   "cell_type": "code",
   "execution_count": 3,
   "id": "a9e16206",
   "metadata": {},
   "outputs": [],
   "source": [
    "# Definim functiile PUTERE\n",
    "def Putere_disipata_pe_rez_sup (I):\n",
    "    PR = []\n",
    "    for i in I:\n",
    "        PR.append(U*i[0])\n",
    "    return PR\n",
    "\n",
    "def Putere_disipata_pe_bobina (P,PR):\n",
    "    PB= []\n",
    "    for  i in range(len(P)):\n",
    "        for j in range(len(PR)):\n",
    "            if i == j:\n",
    "                PB.append(P[i]-PR[j])\n",
    "    return PB"
   ]
  },
  {
   "cell_type": "code",
   "execution_count": 4,
   "id": "277d1619",
   "metadata": {},
   "outputs": [
    {
     "name": "stdout",
     "output_type": "stream",
     "text": [
      "[638.0, 660.0, 660.0, 0.0]\n",
      "[72.0, 45.0, 70.0, 81.5]\n"
     ]
    }
   ],
   "source": [
    "# Testam functiile PUTERE\n",
    "PR = Putere_disipata_pe_rez_sup([I_r, I_i, I_c, I_ron])\n",
    "print (PR)\n",
    "\n",
    "PB = Putere_disipata_pe_bobina (P,PR)\n",
    "print (PB)"
   ]
  },
  {
   "cell_type": "code",
   "execution_count": 20,
   "id": "d35cb4a5",
   "metadata": {},
   "outputs": [],
   "source": [
    "# Definim functiile pentru defazaj \n",
    "\n",
    "def Defazaj_datorat_bobinei(PB,I):\n",
    "    fi_b = []\n",
    "    for i in range(len(I)) :\n",
    "        a = math.acos(PB[i]/(U*I[i][1]))\n",
    "        fi_b.append(math.degrees(a))\n",
    "    return fi_b\n",
    "\n",
    "# sau pentru verificare, merge a doua varianta, dar prima este mai eficienta computational\n",
    "\n",
    "# def Defazaj_datorat_bobinei(PB,I):\n",
    "#     fi_b= []\n",
    "#     for  i in range(len(PB)):\n",
    "#         for j in range(len(I)):\n",
    "#             if i == j:\n",
    "#                 fi_b.append(math.acos(PB[i]/(U*I[i][1])))\n",
    "#     return fi_b\n",
    "\n",
    "\n",
    "# functia este == cu precedenta\n",
    "def Defazaj_total(P, I):\n",
    "    fi = []\n",
    "    for i in range(len(I)) :\n",
    "        a = math.acos(P[i]/(U*I[i][3]))\n",
    "        fi.append(a)\n",
    "    return fi"
   ]
  },
  {
   "cell_type": "code",
   "execution_count": 21,
   "id": "d30bd2fd",
   "metadata": {},
   "outputs": [
    {
     "name": "stdout",
     "output_type": "stream",
     "text": [
      "[87.06882376726342, 88.16850197556128, 87.15031349641342, 86.78232681854429]\n",
      "[0.2715176068694595, 0.9068130450685061, 0.7416222301019723, 1.161091914518011]\n"
     ]
    }
   ],
   "source": [
    "# testam functiile pentru defazaj\n",
    "fi_b = Defazaj_datorat_bobinei(PB,I)\n",
    "fi = Defazaj_total(P, I)\n",
    "\n",
    "print(fi_b)\n",
    "print(fi)"
   ]
  },
  {
   "cell_type": "code",
   "execution_count": 7,
   "id": "cb9384bf",
   "metadata": {},
   "outputs": [],
   "source": [
    "# Definim functiile pentru curent\n",
    "\n",
    "def Curent_rez_bobina(PB):\n",
    "    I_GL = []\n",
    "    for i in PB:\n",
    "        I_GL.append(i/U)\n",
    "    return I_GL\n",
    "\n",
    "def Curent_ind_bobina(I,I_GL):\n",
    "    I_L = []\n",
    "    for i in range(len(I)):\n",
    "        a = math.sqrt(I[i][1]**2 - I_GL[i]**2)\n",
    "        I_L.append(a)\n",
    "    return I_L\n",
    "    "
   ]
  },
  {
   "cell_type": "code",
   "execution_count": 8,
   "id": "33f3c2ce",
   "metadata": {},
   "outputs": [
    {
     "name": "stdout",
     "output_type": "stream",
     "text": [
      "[0.32727272727272727, 0.20454545454545456, 0.3181818181818182, 0.3704545454545455]\n",
      "[6.3916267539636165, 6.39673050526789, 6.3920857574487, 6.589595088452102]\n"
     ]
    }
   ],
   "source": [
    "#Testam functiile curent\n",
    "\n",
    "I_GL = Curent_rez_bobina(PB)\n",
    "I_L = Curent_ind_bobina(I,I_GL)\n",
    "\n",
    "print(I_GL)\n",
    "print(I_L)"
   ]
  }
 ],
 "metadata": {
  "kernelspec": {
   "display_name": "Python 3 (ipykernel)",
   "language": "python",
   "name": "python3"
  },
  "language_info": {
   "codemirror_mode": {
    "name": "ipython",
    "version": 3
   },
   "file_extension": ".py",
   "mimetype": "text/x-python",
   "name": "python",
   "nbconvert_exporter": "python",
   "pygments_lexer": "ipython3",
   "version": "3.9.12"
  }
 },
 "nbformat": 4,
 "nbformat_minor": 5
}
