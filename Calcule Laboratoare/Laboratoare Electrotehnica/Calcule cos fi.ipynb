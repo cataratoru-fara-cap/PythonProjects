{
 "cells": [
  {
   "cell_type": "code",
   "execution_count": 1,
   "id": "ac02c7d7",
   "metadata": {},
   "outputs": [],
   "source": [
    "import numpy as np\n",
    "import math"
   ]
  },
  {
   "cell_type": "code",
   "execution_count": 2,
   "id": "b0cc074d",
   "metadata": {},
   "outputs": [
    {
     "name": "stdout",
     "output_type": "stream",
     "text": [
      "[1074.2439201596628, 801.5609770940698, 568.5068161420758, 460.2445002387318, 460.2445002387318]\n"
     ]
    }
   ],
   "source": [
    "S = np.array([(440, 980), (440,670), (440,360), (440, 135), (440, -135)])\n",
    "g = []\n",
    "for i in S:\n",
    "    g.append(math.sqrt(i[0]**2 + i[1]**2))\n",
    "\n",
    "print(g)"
   ]
  },
  {
   "cell_type": "code",
   "execution_count": 3,
   "id": "ed145c93",
   "metadata": {},
   "outputs": [
    {
     "name": "stdout",
     "output_type": "stream",
     "text": [
      "[41.50943396 41.50943396 41.50943396 41.12149533 41.12149533]\n"
     ]
    }
   ],
   "source": [
    "U = 220\n",
    "I = np.array([5.3, 5.3, 5.3, 5.35, 5.35])\n",
    "print(U/I)"
   ]
  },
  {
   "cell_type": "code",
   "execution_count": 4,
   "id": "0bc30fe3",
   "metadata": {},
   "outputs": [
    {
     "name": "stdout",
     "output_type": "stream",
     "text": [
      "[35.24385902 35.24385902 35.24385902 34.58817364 36.68442659]\n"
     ]
    }
   ],
   "source": [
    "Q = np.array([990, 990, 990, 990, 1050])\n",
    "I_patrat = I**2\n",
    "print(Q/I_patrat)"
   ]
  },
  {
   "cell_type": "code",
   "execution_count": 5,
   "id": "1a87677b",
   "metadata": {},
   "outputs": [
    {
     "name": "stdout",
     "output_type": "stream",
     "text": [
      "[15.66393734 15.66393734 15.66393734 15.37252162 15.37252162]\n"
     ]
    }
   ],
   "source": [
    "P = 440\n",
    "print(P/I_patrat)"
   ]
  },
  {
   "cell_type": "code",
   "execution_count": 6,
   "id": "f91239e3",
   "metadata": {},
   "outputs": [
    {
     "name": "stdout",
     "output_type": "stream",
     "text": [
      "[          nan -125.          -62.98828125  -41.66223828  -31.21893491]\n"
     ]
    },
    {
     "name": "stderr",
     "output_type": "stream",
     "text": [
      "C:\\Users\\yo\\AppData\\Local\\Temp\\ipykernel_928\\3970047003.py:5: RuntimeWarning: invalid value encountered in true_divide\n",
      "  X_c = np.divide(Q_c,I_c_patrat)\n"
     ]
    }
   ],
   "source": [
    "Q_c = np.array([0, -320, -645, -980, -1319])\n",
    "I_c = np.array([0, 1.6, 3.2, 4.85, 6.5])\n",
    "\n",
    "I_c_patrat = np.square(I_c)\n",
    "X_c = np.divide(Q_c,I_c_patrat)\n",
    "print(X_c)"
   ]
  },
  {
   "cell_type": "code",
   "execution_count": 7,
   "id": "c3bbc3f6",
   "metadata": {},
   "outputs": [
    {
     "name": "stdout",
     "output_type": "stream",
     "text": [
      "[            nan -2.54647909e-05 -5.05347788e-05 -7.64024928e-05\n",
      " -1.01960521e-04]\n"
     ]
    }
   ],
   "source": [
    "C = 1/ (100*np.pi*X_c)\n",
    "print (C)"
   ]
  },
  {
   "cell_type": "code",
   "execution_count": 12,
   "id": "05239830",
   "metadata": {},
   "outputs": [
    {
     "name": "stdout",
     "output_type": "stream",
     "text": [
      "[0.37735849 0.50632911 0.71428571 0.88495575 0.71428571]\n",
      "[1.18385409 1.03987377 0.77519337 0.48439734 0.77519337]\n",
      "[67.82984284 59.58037828 44.4153086  27.75392336 44.4153086 ]\n"
     ]
    }
   ],
   "source": [
    "I_prim = np.array([5.3, 3.95, 2.8, 2.26, 2.8])\n",
    "cosfi_p = P/(U*I_prim)\n",
    "print(cosfi_p)\n",
    "print( a := np.arccos(cosfi_p) )\n",
    "print( np.degrees(a))"
   ]
  }
 ],
 "metadata": {
  "kernelspec": {
   "display_name": "Python 3 (ipykernel)",
   "language": "python",
   "name": "python3"
  },
  "language_info": {
   "codemirror_mode": {
    "name": "ipython",
    "version": 3
   },
   "file_extension": ".py",
   "mimetype": "text/x-python",
   "name": "python",
   "nbconvert_exporter": "python",
   "pygments_lexer": "ipython3",
   "version": "3.9.12"
  }
 },
 "nbformat": 4,
 "nbformat_minor": 5
}
