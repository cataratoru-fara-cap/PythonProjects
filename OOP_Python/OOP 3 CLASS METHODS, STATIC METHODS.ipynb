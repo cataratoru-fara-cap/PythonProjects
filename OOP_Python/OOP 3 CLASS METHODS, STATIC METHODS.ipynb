{
 "cells": [
  {
   "cell_type": "code",
   "execution_count": 1,
   "id": "c0467165",
   "metadata": {},
   "outputs": [],
   "source": [
    "# OOP 3 CLASS METHODS, STATIC METHODS"
   ]
  },
  {
   "cell_type": "code",
   "execution_count": 2,
   "id": "0ec33748",
   "metadata": {},
   "outputs": [],
   "source": [
    "import datetime"
   ]
  },
  {
   "cell_type": "code",
   "execution_count": 11,
   "id": "007eb6e4",
   "metadata": {},
   "outputs": [],
   "source": [
    "class Employee:\n",
    "    num = 0\n",
    "    raise_amt = 1.04\n",
    "    \n",
    "    def __init__(self, first, last, pay):\n",
    "        self.first = first\n",
    "        self.last = last\n",
    "        self.pay = pay\n",
    "        self.email = first + '.' + last + '@gmail.com'\n",
    "       \n",
    "        Employee.num += 1\n",
    "    \n",
    "    def fullname(self):\n",
    "        return \"{} {}\".format(self.first, self.last)\n",
    "    \n",
    "    def apply_raise(self):\n",
    "        self.pay = int(self.pay * self.raise_amt)\n",
    "        \n",
    "    @classmethod\n",
    "    def set_raise_amount (cls, amount):\n",
    "        cls.raise_amt = amount\n",
    "        \n",
    "    @classmethod\n",
    "    def from_string(cls, emp_str):\n",
    "        first, last, pay = emp_str.split('-')\n",
    "        return cls(first,last, pay)\n",
    "    \n",
    "    @staticmethod\n",
    "    def is_workday(day):\n",
    "        if day.weekday() == 5 or day.weekday() == 6:\n",
    "            return False\n",
    "        return True"
   ]
  },
  {
   "cell_type": "code",
   "execution_count": 4,
   "id": "52773ed2",
   "metadata": {},
   "outputs": [],
   "source": [
    "emp_1 = Employee('Gabi', 'Vaireanu', 50000)\n",
    "emp_2 = Employee('Test', 'User', 60000)"
   ]
  },
  {
   "cell_type": "code",
   "execution_count": 5,
   "id": "856bcaf9",
   "metadata": {},
   "outputs": [],
   "source": [
    "Employee.set_raise_amount(1.05)"
   ]
  },
  {
   "cell_type": "code",
   "execution_count": 6,
   "id": "fa2374f2",
   "metadata": {},
   "outputs": [
    {
     "name": "stdout",
     "output_type": "stream",
     "text": [
      "1.05\n",
      "1.05\n"
     ]
    }
   ],
   "source": [
    "print(emp_1.raise_amt)\n",
    "print(Employee.raise_amt)"
   ]
  },
  {
   "cell_type": "code",
   "execution_count": 7,
   "id": "2baaa0d2",
   "metadata": {},
   "outputs": [],
   "source": [
    "emp_str_1 = 'Gabi-Vaireanu-70000'\n",
    "new_emp_1 = Employee.from_string(emp_str_1)"
   ]
  },
  {
   "cell_type": "code",
   "execution_count": 8,
   "id": "9d8e3f6c",
   "metadata": {},
   "outputs": [
    {
     "name": "stdout",
     "output_type": "stream",
     "text": [
      "Gabi.Vaireanu@gmail.com\n"
     ]
    }
   ],
   "source": [
    "print(new_emp_1.email)"
   ]
  },
  {
   "cell_type": "code",
   "execution_count": 13,
   "id": "9e754af9",
   "metadata": {},
   "outputs": [
    {
     "name": "stdout",
     "output_type": "stream",
     "text": [
      "True\n"
     ]
    }
   ],
   "source": [
    "\n",
    "my_date = datetime.date(2016, 7, 11)\n",
    "\n",
    "print(Employee.is_workday(my_date))"
   ]
  },
  {
   "cell_type": "code",
   "execution_count": null,
   "id": "210d8952",
   "metadata": {},
   "outputs": [],
   "source": []
  }
 ],
 "metadata": {
  "kernelspec": {
   "display_name": "Python 3 (ipykernel)",
   "language": "python",
   "name": "python3"
  },
  "language_info": {
   "codemirror_mode": {
    "name": "ipython",
    "version": 3
   },
   "file_extension": ".py",
   "mimetype": "text/x-python",
   "name": "python",
   "nbconvert_exporter": "python",
   "pygments_lexer": "ipython3",
   "version": "3.9.12"
  }
 },
 "nbformat": 4,
 "nbformat_minor": 5
}
