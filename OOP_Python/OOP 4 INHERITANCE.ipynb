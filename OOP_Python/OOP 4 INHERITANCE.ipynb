{
 "cells": [
  {
   "cell_type": "code",
   "execution_count": 1,
   "id": "f374d34d",
   "metadata": {},
   "outputs": [],
   "source": [
    "#  OOP 4 INHERITANCE"
   ]
  },
  {
   "cell_type": "code",
   "execution_count": 22,
   "id": "92004071",
   "metadata": {},
   "outputs": [],
   "source": [
    "class Employee:\n",
    "    num = 0\n",
    "    raise_amt = 1.04\n",
    "    \n",
    "    def __init__(self, first, last, pay):\n",
    "        self.first = first\n",
    "        self.last = last\n",
    "        self.pay = pay\n",
    "        self.email = first + '.' + last + '@gmail.com'\n",
    "       \n",
    "        Employee.num += 1\n",
    "    \n",
    "    def fullname(self):\n",
    "        return \"{} {}\".format(self.first, self.last)\n",
    "    \n",
    "    def apply_raise(self):\n",
    "        self.pay = int(self.pay * self.raise_amt)\n",
    "        \n",
    "    @classmethod\n",
    "    def set_raise_amount (cls, amount):\n",
    "        cls.raise_amt = amount\n",
    "        \n",
    "    @classmethod\n",
    "    def from_string(cls, emp_str):\n",
    "        first, last, pay = emp_str.split('-')\n",
    "        return cls(first,last, pay)\n",
    "    \n",
    "    @staticmethod\n",
    "    def is_workday(day):\n",
    "        if day.weekday() == 5 or day.weekday() == 6:\n",
    "            return False\n",
    "        return True"
   ]
  },
  {
   "cell_type": "code",
   "execution_count": 23,
   "id": "bb4bcea4",
   "metadata": {},
   "outputs": [],
   "source": [
    "class Developer (Employee):\n",
    "    raise_amt = 1.10\n",
    "    \n",
    "    def __init__(self, first, last, pay, prog_lang):\n",
    "        super().__init__(first, last, pay)\n",
    "        \n",
    "        self.prog_lang =  prog_lang"
   ]
  },
  {
   "cell_type": "code",
   "execution_count": 24,
   "id": "0be1878d",
   "metadata": {},
   "outputs": [],
   "source": [
    "class Manager(Employee):\n",
    "        def __init__(self, first, last, pay, employees = None):\n",
    "            super().__init__(first, last, pay)\n",
    "            if employees is None:\n",
    "                self.employees = []\n",
    "            else:\n",
    "                self.employees = employees\n",
    "        \n",
    "        def add_emp(self, emp):\n",
    "            if emp not in self.employees:\n",
    "                self.employees.apend(emp)\n",
    "        \n",
    "        def remove_emp(self,emp):\n",
    "            if emp not in self.employees:\n",
    "                self.employees.remove(emp)\n",
    "                \n",
    "        def print_emps(self):\n",
    "            for emp in self.employees:\n",
    "                print('found! '+emp.fullname())"
   ]
  },
  {
   "cell_type": "code",
   "execution_count": 25,
   "id": "fbf29477",
   "metadata": {},
   "outputs": [],
   "source": [
    "dev_1 = Developer('Gabi', 'Vaireanu', 50000, 'Python')\n",
    "dev_2 = Developer('Test', 'User', 60000, 'Java')"
   ]
  },
  {
   "cell_type": "code",
   "execution_count": 26,
   "id": "02eb71cd",
   "metadata": {},
   "outputs": [
    {
     "name": "stdout",
     "output_type": "stream",
     "text": [
      "Gabi.Vaireanu@gmail.com\n",
      "Python\n"
     ]
    }
   ],
   "source": [
    "print(dev_1.email)\n",
    "print(dev_1.prog_lang)"
   ]
  },
  {
   "cell_type": "code",
   "execution_count": 27,
   "id": "c9c859c2",
   "metadata": {},
   "outputs": [
    {
     "name": "stdout",
     "output_type": "stream",
     "text": [
      "Gabi.Vaireanu@gmail.com\n"
     ]
    }
   ],
   "source": [
    "mgr = Manager('Gabi', 'Vaireanu', 50000, [dev_2])\n",
    "print(mgr.email)"
   ]
  },
  {
   "cell_type": "code",
   "execution_count": 29,
   "id": "2fc0c841",
   "metadata": {},
   "outputs": [
    {
     "name": "stdout",
     "output_type": "stream",
     "text": [
      "found! Test User\n"
     ]
    }
   ],
   "source": [
    "mgr.add_emp(dev_2)\n",
    "mgr.print_emps()"
   ]
  }
 ],
 "metadata": {
  "kernelspec": {
   "display_name": "Python 3 (ipykernel)",
   "language": "python",
   "name": "python3"
  },
  "language_info": {
   "codemirror_mode": {
    "name": "ipython",
    "version": 3
   },
   "file_extension": ".py",
   "mimetype": "text/x-python",
   "name": "python",
   "nbconvert_exporter": "python",
   "pygments_lexer": "ipython3",
   "version": "3.9.12"
  }
 },
 "nbformat": 4,
 "nbformat_minor": 5
}
