{
 "cells": [
  {
   "cell_type": "code",
   "execution_count": 1,
   "id": "33e9937a",
   "metadata": {},
   "outputs": [],
   "source": [
    "# OOP 1 CREATING AND INSTANTIATING A CLASS (instance variables)"
   ]
  },
  {
   "cell_type": "code",
   "execution_count": 29,
   "id": "b555d47a",
   "metadata": {},
   "outputs": [],
   "source": [
    "class Employee:\n",
    "   def __init__(self, first, last, pay):\n",
    "    self.first = first\n",
    "    self.last = last\n",
    "    self.pay = pay\n",
    "    self.email = first + '.' + last + '@gmail.com'\n",
    "    \n",
    "   def fullname(self):\n",
    "    return \"{} {}\".format(self.first, self.last)"
   ]
  },
  {
   "cell_type": "code",
   "execution_count": 30,
   "id": "9a21e2d7",
   "metadata": {},
   "outputs": [],
   "source": [
    "emp_1 = Employee('Gabi', 'Vaireanu', 50000)\n",
    "emp_2 = Employee('Test', 'User', 60000)"
   ]
  },
  {
   "cell_type": "code",
   "execution_count": 32,
   "id": "4ad658ef",
   "metadata": {},
   "outputs": [
    {
     "name": "stdout",
     "output_type": "stream",
     "text": [
      "Gabi.Vaireanu@gmail.com\n"
     ]
    }
   ],
   "source": [
    "print(emp_1.email)"
   ]
  },
  {
   "cell_type": "code",
   "execution_count": 33,
   "id": "0524a474",
   "metadata": {},
   "outputs": [
    {
     "name": "stdout",
     "output_type": "stream",
     "text": [
      "Test User\n"
     ]
    }
   ],
   "source": [
    "print(emp_2.fullname())"
   ]
  },
  {
   "cell_type": "code",
   "execution_count": 36,
   "id": "f7d93189",
   "metadata": {},
   "outputs": [
    {
     "name": "stdout",
     "output_type": "stream",
     "text": [
      "Test User\n"
     ]
    }
   ],
   "source": [
    "print(Employee.fullname(emp_2))"
   ]
  }
 ],
 "metadata": {
  "kernelspec": {
   "display_name": "Python 3 (ipykernel)",
   "language": "python",
   "name": "python3"
  },
  "language_info": {
   "codemirror_mode": {
    "name": "ipython",
    "version": 3
   },
   "file_extension": ".py",
   "mimetype": "text/x-python",
   "name": "python",
   "nbconvert_exporter": "python",
   "pygments_lexer": "ipython3",
   "version": "3.9.12"
  }
 },
 "nbformat": 4,
 "nbformat_minor": 5
}
